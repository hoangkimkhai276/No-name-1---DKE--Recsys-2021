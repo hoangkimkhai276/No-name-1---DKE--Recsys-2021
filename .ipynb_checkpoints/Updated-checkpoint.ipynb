{
 "cells": [
  {
   "cell_type": "code",
   "execution_count": 1,
   "id": "e4e02fd6",
   "metadata": {},
   "outputs": [],
   "source": [
    "import pandas as pd\n",
    "import os"
   ]
  },
  {
   "cell_type": "code",
   "execution_count": 2,
   "id": "edfbe674",
   "metadata": {},
   "outputs": [],
   "source": [
    "import random"
   ]
  },
  {
   "cell_type": "markdown",
   "id": "e76d0620",
   "metadata": {},
   "source": [
    "### Read the data"
   ]
  },
  {
   "cell_type": "code",
   "execution_count": 3,
   "id": "a43758bd",
   "metadata": {},
   "outputs": [],
   "source": [
    "movies_df = pd.read_csv('movies.csv')\n",
    "ratings_df = pd.read_csv('ratings.csv')"
   ]
  },
  {
   "cell_type": "code",
   "execution_count": 4,
   "id": "8fb4bb36",
   "metadata": {},
   "outputs": [
    {
     "data": {
      "text/html": [
       "<div>\n",
       "<style scoped>\n",
       "    .dataframe tbody tr th:only-of-type {\n",
       "        vertical-align: middle;\n",
       "    }\n",
       "\n",
       "    .dataframe tbody tr th {\n",
       "        vertical-align: top;\n",
       "    }\n",
       "\n",
       "    .dataframe thead th {\n",
       "        text-align: right;\n",
       "    }\n",
       "</style>\n",
       "<table border=\"1\" class=\"dataframe\">\n",
       "  <thead>\n",
       "    <tr style=\"text-align: right;\">\n",
       "      <th></th>\n",
       "      <th>movieId</th>\n",
       "      <th>title</th>\n",
       "      <th>genres</th>\n",
       "    </tr>\n",
       "  </thead>\n",
       "  <tbody>\n",
       "    <tr>\n",
       "      <th>0</th>\n",
       "      <td>1</td>\n",
       "      <td>Toy Story (1995)</td>\n",
       "      <td>Adventure|Animation|Children|Comedy|Fantasy</td>\n",
       "    </tr>\n",
       "    <tr>\n",
       "      <th>1</th>\n",
       "      <td>2</td>\n",
       "      <td>Jumanji (1995)</td>\n",
       "      <td>Adventure|Children|Fantasy</td>\n",
       "    </tr>\n",
       "    <tr>\n",
       "      <th>2</th>\n",
       "      <td>3</td>\n",
       "      <td>Grumpier Old Men (1995)</td>\n",
       "      <td>Comedy|Romance</td>\n",
       "    </tr>\n",
       "    <tr>\n",
       "      <th>3</th>\n",
       "      <td>4</td>\n",
       "      <td>Waiting to Exhale (1995)</td>\n",
       "      <td>Comedy|Drama|Romance</td>\n",
       "    </tr>\n",
       "    <tr>\n",
       "      <th>4</th>\n",
       "      <td>5</td>\n",
       "      <td>Father of the Bride Part II (1995)</td>\n",
       "      <td>Comedy</td>\n",
       "    </tr>\n",
       "  </tbody>\n",
       "</table>\n",
       "</div>"
      ],
      "text/plain": [
       "   movieId                               title  \\\n",
       "0        1                    Toy Story (1995)   \n",
       "1        2                      Jumanji (1995)   \n",
       "2        3             Grumpier Old Men (1995)   \n",
       "3        4            Waiting to Exhale (1995)   \n",
       "4        5  Father of the Bride Part II (1995)   \n",
       "\n",
       "                                        genres  \n",
       "0  Adventure|Animation|Children|Comedy|Fantasy  \n",
       "1                   Adventure|Children|Fantasy  \n",
       "2                               Comedy|Romance  \n",
       "3                         Comedy|Drama|Romance  \n",
       "4                                       Comedy  "
      ]
     },
     "execution_count": 4,
     "metadata": {},
     "output_type": "execute_result"
    }
   ],
   "source": [
    "movies_df.head(5)"
   ]
  },
  {
   "cell_type": "code",
   "execution_count": 5,
   "id": "e15b84ce",
   "metadata": {},
   "outputs": [
    {
     "data": {
      "text/html": [
       "<div>\n",
       "<style scoped>\n",
       "    .dataframe tbody tr th:only-of-type {\n",
       "        vertical-align: middle;\n",
       "    }\n",
       "\n",
       "    .dataframe tbody tr th {\n",
       "        vertical-align: top;\n",
       "    }\n",
       "\n",
       "    .dataframe thead th {\n",
       "        text-align: right;\n",
       "    }\n",
       "</style>\n",
       "<table border=\"1\" class=\"dataframe\">\n",
       "  <thead>\n",
       "    <tr style=\"text-align: right;\">\n",
       "      <th></th>\n",
       "      <th>userId</th>\n",
       "      <th>movieId</th>\n",
       "      <th>rating</th>\n",
       "      <th>timestamp</th>\n",
       "    </tr>\n",
       "  </thead>\n",
       "  <tbody>\n",
       "    <tr>\n",
       "      <th>0</th>\n",
       "      <td>1</td>\n",
       "      <td>1</td>\n",
       "      <td>4.0</td>\n",
       "      <td>964982703</td>\n",
       "    </tr>\n",
       "    <tr>\n",
       "      <th>1</th>\n",
       "      <td>1</td>\n",
       "      <td>3</td>\n",
       "      <td>4.0</td>\n",
       "      <td>964981247</td>\n",
       "    </tr>\n",
       "    <tr>\n",
       "      <th>2</th>\n",
       "      <td>1</td>\n",
       "      <td>6</td>\n",
       "      <td>4.0</td>\n",
       "      <td>964982224</td>\n",
       "    </tr>\n",
       "    <tr>\n",
       "      <th>3</th>\n",
       "      <td>1</td>\n",
       "      <td>47</td>\n",
       "      <td>5.0</td>\n",
       "      <td>964983815</td>\n",
       "    </tr>\n",
       "    <tr>\n",
       "      <th>4</th>\n",
       "      <td>1</td>\n",
       "      <td>50</td>\n",
       "      <td>5.0</td>\n",
       "      <td>964982931</td>\n",
       "    </tr>\n",
       "  </tbody>\n",
       "</table>\n",
       "</div>"
      ],
      "text/plain": [
       "   userId  movieId  rating  timestamp\n",
       "0       1        1     4.0  964982703\n",
       "1       1        3     4.0  964981247\n",
       "2       1        6     4.0  964982224\n",
       "3       1       47     5.0  964983815\n",
       "4       1       50     5.0  964982931"
      ]
     },
     "execution_count": 5,
     "metadata": {},
     "output_type": "execute_result"
    }
   ],
   "source": [
    "ratings_df.head(5)"
   ]
  },
  {
   "cell_type": "markdown",
   "id": "0f87f38d",
   "metadata": {},
   "source": [
    "### Data preprocessing"
   ]
  },
  {
   "cell_type": "markdown",
   "id": "88cd7399",
   "metadata": {},
   "source": [
    "#### 1. Create user and item columns for LensKit"
   ]
  },
  {
   "cell_type": "code",
   "execution_count": 6,
   "id": "c0f83f24",
   "metadata": {},
   "outputs": [],
   "source": [
    "ratings_df = ratings_df.rename(columns = {'userId' : 'user', 'movieId': 'item'})\n",
    "movies_df = movies_df.rename(columns={'movieId': 'item','title' : 'title_original'})"
   ]
  },
  {
   "cell_type": "code",
   "execution_count": 7,
   "id": "2e974625",
   "metadata": {},
   "outputs": [],
   "source": [
    "def compute_title_year(row):\n",
    "    title_original = str(row['title_original']).strip() \n",
    "\n",
    "    year = title_original[-5:-1] \n",
    "\n",
    "    if year.isdigit():\n",
    "        title = title_original[:-6].strip().lower()\n",
    "        return int(year), title\n",
    "    else:\n",
    "        return 0, title_original.lower()"
   ]
  },
  {
   "cell_type": "code",
   "execution_count": 8,
   "id": "a9279db5",
   "metadata": {
    "scrolled": true
   },
   "outputs": [
    {
     "data": {
      "text/html": [
       "<div>\n",
       "<style scoped>\n",
       "    .dataframe tbody tr th:only-of-type {\n",
       "        vertical-align: middle;\n",
       "    }\n",
       "\n",
       "    .dataframe tbody tr th {\n",
       "        vertical-align: top;\n",
       "    }\n",
       "\n",
       "    .dataframe thead th {\n",
       "        text-align: right;\n",
       "    }\n",
       "</style>\n",
       "<table border=\"1\" class=\"dataframe\">\n",
       "  <thead>\n",
       "    <tr style=\"text-align: right;\">\n",
       "      <th></th>\n",
       "      <th>item</th>\n",
       "      <th>title_original</th>\n",
       "      <th>genres</th>\n",
       "      <th>year</th>\n",
       "      <th>title</th>\n",
       "    </tr>\n",
       "  </thead>\n",
       "  <tbody>\n",
       "    <tr>\n",
       "      <th>0</th>\n",
       "      <td>1</td>\n",
       "      <td>Toy Story (1995)</td>\n",
       "      <td>Adventure|Animation|Children|Comedy|Fantasy</td>\n",
       "      <td>1995</td>\n",
       "      <td>toy story</td>\n",
       "    </tr>\n",
       "    <tr>\n",
       "      <th>1</th>\n",
       "      <td>2</td>\n",
       "      <td>Jumanji (1995)</td>\n",
       "      <td>Adventure|Children|Fantasy</td>\n",
       "      <td>1995</td>\n",
       "      <td>jumanji</td>\n",
       "    </tr>\n",
       "    <tr>\n",
       "      <th>2</th>\n",
       "      <td>3</td>\n",
       "      <td>Grumpier Old Men (1995)</td>\n",
       "      <td>Comedy|Romance</td>\n",
       "      <td>1995</td>\n",
       "      <td>grumpier old men</td>\n",
       "    </tr>\n",
       "    <tr>\n",
       "      <th>3</th>\n",
       "      <td>4</td>\n",
       "      <td>Waiting to Exhale (1995)</td>\n",
       "      <td>Comedy|Drama|Romance</td>\n",
       "      <td>1995</td>\n",
       "      <td>waiting to exhale</td>\n",
       "    </tr>\n",
       "    <tr>\n",
       "      <th>4</th>\n",
       "      <td>5</td>\n",
       "      <td>Father of the Bride Part II (1995)</td>\n",
       "      <td>Comedy</td>\n",
       "      <td>1995</td>\n",
       "      <td>father of the bride part ii</td>\n",
       "    </tr>\n",
       "    <tr>\n",
       "      <th>5</th>\n",
       "      <td>6</td>\n",
       "      <td>Heat (1995)</td>\n",
       "      <td>Action|Crime|Thriller</td>\n",
       "      <td>1995</td>\n",
       "      <td>heat</td>\n",
       "    </tr>\n",
       "    <tr>\n",
       "      <th>6</th>\n",
       "      <td>7</td>\n",
       "      <td>Sabrina (1995)</td>\n",
       "      <td>Comedy|Romance</td>\n",
       "      <td>1995</td>\n",
       "      <td>sabrina</td>\n",
       "    </tr>\n",
       "    <tr>\n",
       "      <th>7</th>\n",
       "      <td>8</td>\n",
       "      <td>Tom and Huck (1995)</td>\n",
       "      <td>Adventure|Children</td>\n",
       "      <td>1995</td>\n",
       "      <td>tom and huck</td>\n",
       "    </tr>\n",
       "    <tr>\n",
       "      <th>8</th>\n",
       "      <td>9</td>\n",
       "      <td>Sudden Death (1995)</td>\n",
       "      <td>Action</td>\n",
       "      <td>1995</td>\n",
       "      <td>sudden death</td>\n",
       "    </tr>\n",
       "    <tr>\n",
       "      <th>9</th>\n",
       "      <td>10</td>\n",
       "      <td>GoldenEye (1995)</td>\n",
       "      <td>Action|Adventure|Thriller</td>\n",
       "      <td>1995</td>\n",
       "      <td>goldeneye</td>\n",
       "    </tr>\n",
       "  </tbody>\n",
       "</table>\n",
       "</div>"
      ],
      "text/plain": [
       "   item                      title_original  \\\n",
       "0     1                    Toy Story (1995)   \n",
       "1     2                      Jumanji (1995)   \n",
       "2     3             Grumpier Old Men (1995)   \n",
       "3     4            Waiting to Exhale (1995)   \n",
       "4     5  Father of the Bride Part II (1995)   \n",
       "5     6                         Heat (1995)   \n",
       "6     7                      Sabrina (1995)   \n",
       "7     8                 Tom and Huck (1995)   \n",
       "8     9                 Sudden Death (1995)   \n",
       "9    10                    GoldenEye (1995)   \n",
       "\n",
       "                                        genres  year  \\\n",
       "0  Adventure|Animation|Children|Comedy|Fantasy  1995   \n",
       "1                   Adventure|Children|Fantasy  1995   \n",
       "2                               Comedy|Romance  1995   \n",
       "3                         Comedy|Drama|Romance  1995   \n",
       "4                                       Comedy  1995   \n",
       "5                        Action|Crime|Thriller  1995   \n",
       "6                               Comedy|Romance  1995   \n",
       "7                           Adventure|Children  1995   \n",
       "8                                       Action  1995   \n",
       "9                    Action|Adventure|Thriller  1995   \n",
       "\n",
       "                         title  \n",
       "0                    toy story  \n",
       "1                      jumanji  \n",
       "2             grumpier old men  \n",
       "3            waiting to exhale  \n",
       "4  father of the bride part ii  \n",
       "5                         heat  \n",
       "6                      sabrina  \n",
       "7                 tom and huck  \n",
       "8                 sudden death  \n",
       "9                    goldeneye  "
      ]
     },
     "metadata": {},
     "output_type": "display_data"
    }
   ],
   "source": [
    "\n",
    "movies_df[['year', 'title']] = movies_df.apply(compute_title_year, axis=1, result_type ='expand')\n",
    "display(movies_df.head(10))"
   ]
  },
  {
   "cell_type": "markdown",
   "id": "a3f057a2",
   "metadata": {},
   "source": [
    "### 2. Remove duplicated records from the dataframe:"
   ]
  },
  {
   "cell_type": "code",
   "execution_count": 9,
   "id": "f487f59c",
   "metadata": {},
   "outputs": [],
   "source": [
    "movies_count = movies_df.groupby(['title','year'],as_index=False).size()"
   ]
  },
  {
   "cell_type": "code",
   "execution_count": 10,
   "id": "185ac1f8",
   "metadata": {},
   "outputs": [
    {
     "data": {
      "text/html": [
       "<div>\n",
       "<style scoped>\n",
       "    .dataframe tbody tr th:only-of-type {\n",
       "        vertical-align: middle;\n",
       "    }\n",
       "\n",
       "    .dataframe tbody tr th {\n",
       "        vertical-align: top;\n",
       "    }\n",
       "\n",
       "    .dataframe thead th {\n",
       "        text-align: right;\n",
       "    }\n",
       "</style>\n",
       "<table border=\"1\" class=\"dataframe\">\n",
       "  <thead>\n",
       "    <tr style=\"text-align: right;\">\n",
       "      <th></th>\n",
       "      <th>title</th>\n",
       "      <th>year</th>\n",
       "      <th>size</th>\n",
       "    </tr>\n",
       "  </thead>\n",
       "  <tbody>\n",
       "    <tr>\n",
       "      <th>1942</th>\n",
       "      <td>confessions of a dangerous mind</td>\n",
       "      <td>2002</td>\n",
       "      <td>2</td>\n",
       "    </tr>\n",
       "    <tr>\n",
       "      <th>2727</th>\n",
       "      <td>emma</td>\n",
       "      <td>1996</td>\n",
       "      <td>2</td>\n",
       "    </tr>\n",
       "    <tr>\n",
       "      <th>2789</th>\n",
       "      <td>eros</td>\n",
       "      <td>2004</td>\n",
       "      <td>2</td>\n",
       "    </tr>\n",
       "    <tr>\n",
       "      <th>7395</th>\n",
       "      <td>saturn 3</td>\n",
       "      <td>1980</td>\n",
       "      <td>2</td>\n",
       "    </tr>\n",
       "    <tr>\n",
       "      <th>9289</th>\n",
       "      <td>war of the worlds</td>\n",
       "      <td>2005</td>\n",
       "      <td>2</td>\n",
       "    </tr>\n",
       "  </tbody>\n",
       "</table>\n",
       "</div>"
      ],
      "text/plain": [
       "                                title  year  size\n",
       "1942  confessions of a dangerous mind  2002     2\n",
       "2727                             emma  1996     2\n",
       "2789                             eros  2004     2\n",
       "7395                         saturn 3  1980     2\n",
       "9289                war of the worlds  2005     2"
      ]
     },
     "execution_count": 10,
     "metadata": {},
     "output_type": "execute_result"
    }
   ],
   "source": [
    "movies_count.loc[movies_count['size'] > 1]"
   ]
  },
  {
   "cell_type": "code",
   "execution_count": 11,
   "id": "b4879495",
   "metadata": {},
   "outputs": [],
   "source": [
    "movies_df= movies_df.drop_duplicates(subset=['title','year'], keep=\"last\")"
   ]
  },
  {
   "cell_type": "markdown",
   "id": "21039253",
   "metadata": {},
   "source": [
    "#### Check to see if the duplicated records are removed:"
   ]
  },
  {
   "cell_type": "code",
   "execution_count": 12,
   "id": "046a12ce",
   "metadata": {
    "scrolled": false
   },
   "outputs": [
    {
     "data": {
      "text/html": [
       "<div>\n",
       "<style scoped>\n",
       "    .dataframe tbody tr th:only-of-type {\n",
       "        vertical-align: middle;\n",
       "    }\n",
       "\n",
       "    .dataframe tbody tr th {\n",
       "        vertical-align: top;\n",
       "    }\n",
       "\n",
       "    .dataframe thead th {\n",
       "        text-align: right;\n",
       "    }\n",
       "</style>\n",
       "<table border=\"1\" class=\"dataframe\">\n",
       "  <thead>\n",
       "    <tr style=\"text-align: right;\">\n",
       "      <th></th>\n",
       "      <th>title</th>\n",
       "      <th>year</th>\n",
       "      <th>size</th>\n",
       "    </tr>\n",
       "  </thead>\n",
       "  <tbody>\n",
       "  </tbody>\n",
       "</table>\n",
       "</div>"
      ],
      "text/plain": [
       "Empty DataFrame\n",
       "Columns: [title, year, size]\n",
       "Index: []"
      ]
     },
     "execution_count": 12,
     "metadata": {},
     "output_type": "execute_result"
    }
   ],
   "source": [
    "movies_count = movies_df.groupby(['title','year'],as_index=False).size()\n",
    "movies_count.loc[movies_count['size'] > 1]"
   ]
  },
  {
   "cell_type": "code",
   "execution_count": 13,
   "id": "793d90ad",
   "metadata": {},
   "outputs": [],
   "source": [
    "plots_df = pd.read_csv('wiki_movie_plots_deduped.csv')"
   ]
  },
  {
   "cell_type": "code",
   "execution_count": 14,
   "id": "98a58bc9",
   "metadata": {},
   "outputs": [],
   "source": [
    "plots_df['title'] = plots_df['Title'].str.strip().str.lower()\n",
    "plots_df = plots_df.rename(columns={'Release Year': 'year', 'Plot' : 'plot'})\n",
    "plots_df = plots_df[['title', 'year', 'plot']]"
   ]
  },
  {
   "cell_type": "code",
   "execution_count": 15,
   "id": "6d150004",
   "metadata": {},
   "outputs": [
    {
     "data": {
      "text/html": [
       "<div>\n",
       "<style scoped>\n",
       "    .dataframe tbody tr th:only-of-type {\n",
       "        vertical-align: middle;\n",
       "    }\n",
       "\n",
       "    .dataframe tbody tr th {\n",
       "        vertical-align: top;\n",
       "    }\n",
       "\n",
       "    .dataframe thead th {\n",
       "        text-align: right;\n",
       "    }\n",
       "</style>\n",
       "<table border=\"1\" class=\"dataframe\">\n",
       "  <thead>\n",
       "    <tr style=\"text-align: right;\">\n",
       "      <th></th>\n",
       "      <th>title</th>\n",
       "      <th>year</th>\n",
       "      <th>size</th>\n",
       "    </tr>\n",
       "  </thead>\n",
       "  <tbody>\n",
       "    <tr>\n",
       "      <th>61</th>\n",
       "      <td>12</td>\n",
       "      <td>2006</td>\n",
       "      <td>2</td>\n",
       "    </tr>\n",
       "    <tr>\n",
       "      <th>69</th>\n",
       "      <td>12 years a slave</td>\n",
       "      <td>2013</td>\n",
       "      <td>2</td>\n",
       "    </tr>\n",
       "    <tr>\n",
       "      <th>71</th>\n",
       "      <td>123</td>\n",
       "      <td>2002</td>\n",
       "      <td>3</td>\n",
       "    </tr>\n",
       "    <tr>\n",
       "      <th>75</th>\n",
       "      <td>13</td>\n",
       "      <td>2006</td>\n",
       "      <td>2</td>\n",
       "    </tr>\n",
       "    <tr>\n",
       "      <th>87</th>\n",
       "      <td>14</td>\n",
       "      <td>2006</td>\n",
       "      <td>3</td>\n",
       "    </tr>\n",
       "    <tr>\n",
       "      <th>...</th>\n",
       "      <td>...</td>\n",
       "      <td>...</td>\n",
       "      <td>...</td>\n",
       "    </tr>\n",
       "    <tr>\n",
       "      <th>34002</th>\n",
       "      <td>woman in gold</td>\n",
       "      <td>2015</td>\n",
       "      <td>2</td>\n",
       "    </tr>\n",
       "    <tr>\n",
       "      <th>34100</th>\n",
       "      <td>x-men: days of future past</td>\n",
       "      <td>2014</td>\n",
       "      <td>2</td>\n",
       "    </tr>\n",
       "    <tr>\n",
       "      <th>34101</th>\n",
       "      <td>x-men: first class</td>\n",
       "      <td>2011</td>\n",
       "      <td>2</td>\n",
       "    </tr>\n",
       "    <tr>\n",
       "      <th>34179</th>\n",
       "      <td>yashoda krishna</td>\n",
       "      <td>1975</td>\n",
       "      <td>2</td>\n",
       "    </tr>\n",
       "    <tr>\n",
       "      <th>34189</th>\n",
       "      <td>yavarum nalam</td>\n",
       "      <td>2009</td>\n",
       "      <td>2</td>\n",
       "    </tr>\n",
       "  </tbody>\n",
       "</table>\n",
       "<p>316 rows × 3 columns</p>\n",
       "</div>"
      ],
      "text/plain": [
       "                            title  year  size\n",
       "61                             12  2006     2\n",
       "69               12 years a slave  2013     2\n",
       "71                            123  2002     3\n",
       "75                             13  2006     2\n",
       "87                             14  2006     3\n",
       "...                           ...   ...   ...\n",
       "34002               woman in gold  2015     2\n",
       "34100  x-men: days of future past  2014     2\n",
       "34101          x-men: first class  2011     2\n",
       "34179             yashoda krishna  1975     2\n",
       "34189               yavarum nalam  2009     2\n",
       "\n",
       "[316 rows x 3 columns]"
      ]
     },
     "execution_count": 15,
     "metadata": {},
     "output_type": "execute_result"
    }
   ],
   "source": [
    "plots_count = plots_df.groupby(['title','year'],as_index=False).size()\n",
    "plots_count.loc[plots_count['size'] > 1]"
   ]
  },
  {
   "cell_type": "code",
   "execution_count": 16,
   "id": "89e2f7b2",
   "metadata": {},
   "outputs": [],
   "source": [
    "plots_df = plots_df.drop_duplicates(subset=['title','year'], keep=\"last\")"
   ]
  },
  {
   "cell_type": "code",
   "execution_count": 17,
   "id": "ff947339",
   "metadata": {
    "scrolled": true
   },
   "outputs": [
    {
     "data": {
      "text/html": [
       "<div>\n",
       "<style scoped>\n",
       "    .dataframe tbody tr th:only-of-type {\n",
       "        vertical-align: middle;\n",
       "    }\n",
       "\n",
       "    .dataframe tbody tr th {\n",
       "        vertical-align: top;\n",
       "    }\n",
       "\n",
       "    .dataframe thead th {\n",
       "        text-align: right;\n",
       "    }\n",
       "</style>\n",
       "<table border=\"1\" class=\"dataframe\">\n",
       "  <thead>\n",
       "    <tr style=\"text-align: right;\">\n",
       "      <th></th>\n",
       "      <th>title</th>\n",
       "      <th>year</th>\n",
       "      <th>size</th>\n",
       "    </tr>\n",
       "  </thead>\n",
       "  <tbody>\n",
       "  </tbody>\n",
       "</table>\n",
       "</div>"
      ],
      "text/plain": [
       "Empty DataFrame\n",
       "Columns: [title, year, size]\n",
       "Index: []"
      ]
     },
     "execution_count": 17,
     "metadata": {},
     "output_type": "execute_result"
    }
   ],
   "source": [
    "plots_count = plots_df.groupby(['title','year'],as_index=False).size()\n",
    "plots_count.loc[plots_count['size'] > 1]"
   ]
  },
  {
   "cell_type": "code",
   "execution_count": 18,
   "id": "4a0279e5",
   "metadata": {},
   "outputs": [],
   "source": [
    "\n",
    "movies_df = pd.merge(movies_df, plots_df,  how='inner', left_on=['title','year'], right_on = ['title','year'])\n",
    "movies_df = movies_df[['item','title','year','genres','plot']]"
   ]
  },
  {
   "cell_type": "code",
   "execution_count": 19,
   "id": "8746186a",
   "metadata": {},
   "outputs": [
    {
     "data": {
      "text/html": [
       "<div>\n",
       "<style scoped>\n",
       "    .dataframe tbody tr th:only-of-type {\n",
       "        vertical-align: middle;\n",
       "    }\n",
       "\n",
       "    .dataframe tbody tr th {\n",
       "        vertical-align: top;\n",
       "    }\n",
       "\n",
       "    .dataframe thead th {\n",
       "        text-align: right;\n",
       "    }\n",
       "</style>\n",
       "<table border=\"1\" class=\"dataframe\">\n",
       "  <thead>\n",
       "    <tr style=\"text-align: right;\">\n",
       "      <th></th>\n",
       "      <th>item</th>\n",
       "      <th>title</th>\n",
       "      <th>year</th>\n",
       "      <th>genres</th>\n",
       "      <th>plot</th>\n",
       "    </tr>\n",
       "  </thead>\n",
       "  <tbody>\n",
       "    <tr>\n",
       "      <th>0</th>\n",
       "      <td>1</td>\n",
       "      <td>toy story</td>\n",
       "      <td>1995</td>\n",
       "      <td>Adventure|Animation|Children|Comedy|Fantasy</td>\n",
       "      <td>In a world where toys are living things who pr...</td>\n",
       "    </tr>\n",
       "    <tr>\n",
       "      <th>1</th>\n",
       "      <td>2</td>\n",
       "      <td>jumanji</td>\n",
       "      <td>1995</td>\n",
       "      <td>Adventure|Children|Fantasy</td>\n",
       "      <td>In 1869, near Brantford, New Hampshire, two br...</td>\n",
       "    </tr>\n",
       "    <tr>\n",
       "      <th>2</th>\n",
       "      <td>3</td>\n",
       "      <td>grumpier old men</td>\n",
       "      <td>1995</td>\n",
       "      <td>Comedy|Romance</td>\n",
       "      <td>The feud between Max (Walter Matthau) and John...</td>\n",
       "    </tr>\n",
       "    <tr>\n",
       "      <th>3</th>\n",
       "      <td>4</td>\n",
       "      <td>waiting to exhale</td>\n",
       "      <td>1995</td>\n",
       "      <td>Comedy|Drama|Romance</td>\n",
       "      <td>\"Friends are the People who let you be yoursel...</td>\n",
       "    </tr>\n",
       "    <tr>\n",
       "      <th>4</th>\n",
       "      <td>5</td>\n",
       "      <td>father of the bride part ii</td>\n",
       "      <td>1995</td>\n",
       "      <td>Comedy</td>\n",
       "      <td>The film begins five years after the events of...</td>\n",
       "    </tr>\n",
       "  </tbody>\n",
       "</table>\n",
       "</div>"
      ],
      "text/plain": [
       "   item                        title  year  \\\n",
       "0     1                    toy story  1995   \n",
       "1     2                      jumanji  1995   \n",
       "2     3             grumpier old men  1995   \n",
       "3     4            waiting to exhale  1995   \n",
       "4     5  father of the bride part ii  1995   \n",
       "\n",
       "                                        genres  \\\n",
       "0  Adventure|Animation|Children|Comedy|Fantasy   \n",
       "1                   Adventure|Children|Fantasy   \n",
       "2                               Comedy|Romance   \n",
       "3                         Comedy|Drama|Romance   \n",
       "4                                       Comedy   \n",
       "\n",
       "                                                plot  \n",
       "0  In a world where toys are living things who pr...  \n",
       "1  In 1869, near Brantford, New Hampshire, two br...  \n",
       "2  The feud between Max (Walter Matthau) and John...  \n",
       "3  \"Friends are the People who let you be yoursel...  \n",
       "4  The film begins five years after the events of...  "
      ]
     },
     "execution_count": 19,
     "metadata": {},
     "output_type": "execute_result"
    }
   ],
   "source": [
    "movies_df.head(5)"
   ]
  },
  {
   "cell_type": "code",
   "execution_count": 20,
   "id": "f00084e6",
   "metadata": {
    "scrolled": true
   },
   "outputs": [
    {
     "data": {
      "text/html": [
       "<div>\n",
       "<style scoped>\n",
       "    .dataframe tbody tr th:only-of-type {\n",
       "        vertical-align: middle;\n",
       "    }\n",
       "\n",
       "    .dataframe tbody tr th {\n",
       "        vertical-align: top;\n",
       "    }\n",
       "\n",
       "    .dataframe thead th {\n",
       "        text-align: right;\n",
       "    }\n",
       "</style>\n",
       "<table border=\"1\" class=\"dataframe\">\n",
       "  <thead>\n",
       "    <tr style=\"text-align: right;\">\n",
       "      <th></th>\n",
       "      <th>user</th>\n",
       "      <th>item</th>\n",
       "      <th>rating</th>\n",
       "      <th>timestamp</th>\n",
       "    </tr>\n",
       "  </thead>\n",
       "  <tbody>\n",
       "    <tr>\n",
       "      <th>0</th>\n",
       "      <td>1</td>\n",
       "      <td>1</td>\n",
       "      <td>4.0</td>\n",
       "      <td>964982703</td>\n",
       "    </tr>\n",
       "    <tr>\n",
       "      <th>1</th>\n",
       "      <td>1</td>\n",
       "      <td>3</td>\n",
       "      <td>4.0</td>\n",
       "      <td>964981247</td>\n",
       "    </tr>\n",
       "    <tr>\n",
       "      <th>2</th>\n",
       "      <td>1</td>\n",
       "      <td>6</td>\n",
       "      <td>4.0</td>\n",
       "      <td>964982224</td>\n",
       "    </tr>\n",
       "    <tr>\n",
       "      <th>3</th>\n",
       "      <td>1</td>\n",
       "      <td>47</td>\n",
       "      <td>5.0</td>\n",
       "      <td>964983815</td>\n",
       "    </tr>\n",
       "    <tr>\n",
       "      <th>4</th>\n",
       "      <td>1</td>\n",
       "      <td>50</td>\n",
       "      <td>5.0</td>\n",
       "      <td>964982931</td>\n",
       "    </tr>\n",
       "  </tbody>\n",
       "</table>\n",
       "</div>"
      ],
      "text/plain": [
       "   user  item  rating  timestamp\n",
       "0     1     1     4.0  964982703\n",
       "1     1     3     4.0  964981247\n",
       "2     1     6     4.0  964982224\n",
       "3     1    47     5.0  964983815\n",
       "4     1    50     5.0  964982931"
      ]
     },
     "execution_count": 20,
     "metadata": {},
     "output_type": "execute_result"
    }
   ],
   "source": [
    "ratings_df.head(5)"
   ]
  },
  {
   "cell_type": "markdown",
   "id": "643b4da6",
   "metadata": {},
   "source": [
    "#### 2.  Non personalized recommendations: ordering by average rating"
   ]
  },
  {
   "cell_type": "code",
   "execution_count": 21,
   "id": "8212408b",
   "metadata": {},
   "outputs": [],
   "source": [
    "test_movies = movies_df.copy()"
   ]
  },
  {
   "cell_type": "code",
   "execution_count": 22,
   "id": "a5132de1",
   "metadata": {},
   "outputs": [],
   "source": [
    "user_rating_count = ratings_df.groupby(['item'], as_index = False).count()[['item','user']]"
   ]
  },
  {
   "cell_type": "code",
   "execution_count": 23,
   "id": "de69e24e",
   "metadata": {
    "scrolled": true
   },
   "outputs": [],
   "source": [
    "rating_avg = ratings_df.groupby('item',as_index = False).mean()[['item','rating']]"
   ]
  },
  {
   "cell_type": "code",
   "execution_count": 24,
   "id": "4c4940d5",
   "metadata": {},
   "outputs": [],
   "source": [
    "test_movies = pd.merge(test_movies, user_rating_count,  how='inner', left_on=['item'], right_on = ['item'])"
   ]
  },
  {
   "cell_type": "code",
   "execution_count": 25,
   "id": "6affc222",
   "metadata": {},
   "outputs": [],
   "source": [
    "test_movies = pd.merge(test_movies, rating_avg,  how='inner', left_on=['item'], right_on = ['item'])"
   ]
  },
  {
   "cell_type": "code",
   "execution_count": 26,
   "id": "a5afc34a",
   "metadata": {},
   "outputs": [],
   "source": [
    "test_movies = test_movies.rename(columns = {'user':'vote_count'})"
   ]
  },
  {
   "cell_type": "code",
   "execution_count": 27,
   "id": "5f6ca062",
   "metadata": {},
   "outputs": [],
   "source": [
    "test_movies = test_movies.rename(columns = {'rating':'avg_rating'})"
   ]
  },
  {
   "cell_type": "code",
   "execution_count": 28,
   "id": "3082fae6",
   "metadata": {},
   "outputs": [
    {
     "data": {
      "text/html": [
       "<div>\n",
       "<style scoped>\n",
       "    .dataframe tbody tr th:only-of-type {\n",
       "        vertical-align: middle;\n",
       "    }\n",
       "\n",
       "    .dataframe tbody tr th {\n",
       "        vertical-align: top;\n",
       "    }\n",
       "\n",
       "    .dataframe thead th {\n",
       "        text-align: right;\n",
       "    }\n",
       "</style>\n",
       "<table border=\"1\" class=\"dataframe\">\n",
       "  <thead>\n",
       "    <tr style=\"text-align: right;\">\n",
       "      <th></th>\n",
       "      <th>item</th>\n",
       "      <th>title</th>\n",
       "      <th>year</th>\n",
       "      <th>genres</th>\n",
       "      <th>plot</th>\n",
       "      <th>vote_count</th>\n",
       "      <th>avg_rating</th>\n",
       "    </tr>\n",
       "  </thead>\n",
       "  <tbody>\n",
       "    <tr>\n",
       "      <th>0</th>\n",
       "      <td>1</td>\n",
       "      <td>toy story</td>\n",
       "      <td>1995</td>\n",
       "      <td>Adventure|Animation|Children|Comedy|Fantasy</td>\n",
       "      <td>In a world where toys are living things who pr...</td>\n",
       "      <td>215</td>\n",
       "      <td>3.920930</td>\n",
       "    </tr>\n",
       "    <tr>\n",
       "      <th>1</th>\n",
       "      <td>2</td>\n",
       "      <td>jumanji</td>\n",
       "      <td>1995</td>\n",
       "      <td>Adventure|Children|Fantasy</td>\n",
       "      <td>In 1869, near Brantford, New Hampshire, two br...</td>\n",
       "      <td>110</td>\n",
       "      <td>3.431818</td>\n",
       "    </tr>\n",
       "    <tr>\n",
       "      <th>2</th>\n",
       "      <td>3</td>\n",
       "      <td>grumpier old men</td>\n",
       "      <td>1995</td>\n",
       "      <td>Comedy|Romance</td>\n",
       "      <td>The feud between Max (Walter Matthau) and John...</td>\n",
       "      <td>52</td>\n",
       "      <td>3.259615</td>\n",
       "    </tr>\n",
       "    <tr>\n",
       "      <th>3</th>\n",
       "      <td>4</td>\n",
       "      <td>waiting to exhale</td>\n",
       "      <td>1995</td>\n",
       "      <td>Comedy|Drama|Romance</td>\n",
       "      <td>\"Friends are the People who let you be yoursel...</td>\n",
       "      <td>7</td>\n",
       "      <td>2.357143</td>\n",
       "    </tr>\n",
       "    <tr>\n",
       "      <th>4</th>\n",
       "      <td>5</td>\n",
       "      <td>father of the bride part ii</td>\n",
       "      <td>1995</td>\n",
       "      <td>Comedy</td>\n",
       "      <td>The film begins five years after the events of...</td>\n",
       "      <td>49</td>\n",
       "      <td>3.071429</td>\n",
       "    </tr>\n",
       "  </tbody>\n",
       "</table>\n",
       "</div>"
      ],
      "text/plain": [
       "   item                        title  year  \\\n",
       "0     1                    toy story  1995   \n",
       "1     2                      jumanji  1995   \n",
       "2     3             grumpier old men  1995   \n",
       "3     4            waiting to exhale  1995   \n",
       "4     5  father of the bride part ii  1995   \n",
       "\n",
       "                                        genres  \\\n",
       "0  Adventure|Animation|Children|Comedy|Fantasy   \n",
       "1                   Adventure|Children|Fantasy   \n",
       "2                               Comedy|Romance   \n",
       "3                         Comedy|Drama|Romance   \n",
       "4                                       Comedy   \n",
       "\n",
       "                                                plot  vote_count  avg_rating  \n",
       "0  In a world where toys are living things who pr...         215    3.920930  \n",
       "1  In 1869, near Brantford, New Hampshire, two br...         110    3.431818  \n",
       "2  The feud between Max (Walter Matthau) and John...          52    3.259615  \n",
       "3  \"Friends are the People who let you be yoursel...           7    2.357143  \n",
       "4  The film begins five years after the events of...          49    3.071429  "
      ]
     },
     "execution_count": 28,
     "metadata": {},
     "output_type": "execute_result"
    }
   ],
   "source": [
    "test_movies.head(5)"
   ]
  },
  {
   "cell_type": "markdown",
   "id": "fadf59ce",
   "metadata": {},
   "source": [
    "We calculate the weighted rating for each movie using the IMDB's formula:"
   ]
  },
  {
   "cell_type": "markdown",
   "id": "67ad1b52",
   "metadata": {},
   "source": [
    "![alt text](ww.png \"Title\")"
   ]
  },
  {
   "cell_type": "markdown",
   "id": "a8c80a55",
   "metadata": {},
   "source": [
    "However, since there are movies with only 1 rating, we want to have movies with more ratings to avoid bias. Therefore, we apply 90% quantile to select the top 10% most rated movies:"
   ]
  },
  {
   "cell_type": "code",
   "execution_count": 29,
   "id": "a4519252",
   "metadata": {},
   "outputs": [],
   "source": [
    "C= test_movies['avg_rating'].mean()\n",
    "m= test_movies['vote_count'].quantile(0.9) #select the top 10% most rated movies"
   ]
  },
  {
   "cell_type": "code",
   "execution_count": 30,
   "id": "64f210d4",
   "metadata": {},
   "outputs": [],
   "source": [
    "quantiled_movies = test_movies.copy().loc[test_movies['vote_count'] >= m]"
   ]
  },
  {
   "cell_type": "markdown",
   "id": "8133735e",
   "metadata": {},
   "source": [
    "We define the function to calculate the weighted rating as follow: "
   ]
  },
  {
   "cell_type": "code",
   "execution_count": 31,
   "id": "2003da48",
   "metadata": {},
   "outputs": [],
   "source": [
    "def weighted_rating(x, m=m, C=C):\n",
    "    v = x['vote_count']\n",
    "    R = x['avg_rating']\n",
    "    # Calculation based on the IMDB formula\n",
    "    return (v/(v+m) * R) + (m/(m+v) * C)"
   ]
  },
  {
   "cell_type": "code",
   "execution_count": 32,
   "id": "8b7517f7",
   "metadata": {},
   "outputs": [],
   "source": [
    "quantiled_movies['score'] = quantiled_movies.apply(weighted_rating, axis=1)"
   ]
  },
  {
   "cell_type": "markdown",
   "id": "d9ba1005",
   "metadata": {},
   "source": [
    "We then sort the result and recommend the movies with highest weighted rating:"
   ]
  },
  {
   "cell_type": "code",
   "execution_count": 33,
   "id": "e5b7b3d6",
   "metadata": {
    "scrolled": true
   },
   "outputs": [
    {
     "data": {
      "text/html": [
       "<div>\n",
       "<style scoped>\n",
       "    .dataframe tbody tr th:only-of-type {\n",
       "        vertical-align: middle;\n",
       "    }\n",
       "\n",
       "    .dataframe tbody tr th {\n",
       "        vertical-align: top;\n",
       "    }\n",
       "\n",
       "    .dataframe thead th {\n",
       "        text-align: right;\n",
       "    }\n",
       "</style>\n",
       "<table border=\"1\" class=\"dataframe\">\n",
       "  <thead>\n",
       "    <tr style=\"text-align: right;\">\n",
       "      <th></th>\n",
       "      <th>title</th>\n",
       "      <th>vote_count</th>\n",
       "      <th>avg_rating</th>\n",
       "      <th>score</th>\n",
       "    </tr>\n",
       "  </thead>\n",
       "  <tbody>\n",
       "    <tr>\n",
       "      <th>1317</th>\n",
       "      <td>fight club</td>\n",
       "      <td>218</td>\n",
       "      <td>4.272936</td>\n",
       "      <td>4.105076</td>\n",
       "    </tr>\n",
       "    <tr>\n",
       "      <th>160</th>\n",
       "      <td>pulp fiction</td>\n",
       "      <td>307</td>\n",
       "      <td>4.197068</td>\n",
       "      <td>4.080868</td>\n",
       "    </tr>\n",
       "    <tr>\n",
       "      <th>281</th>\n",
       "      <td>schindler's list</td>\n",
       "      <td>220</td>\n",
       "      <td>4.225000</td>\n",
       "      <td>4.065501</td>\n",
       "    </tr>\n",
       "    <tr>\n",
       "      <th>186</th>\n",
       "      <td>forrest gump</td>\n",
       "      <td>329</td>\n",
       "      <td>4.164134</td>\n",
       "      <td>4.058309</td>\n",
       "    </tr>\n",
       "    <tr>\n",
       "      <th>533</th>\n",
       "      <td>goodfellas</td>\n",
       "      <td>126</td>\n",
       "      <td>4.250000</td>\n",
       "      <td>3.993289</td>\n",
       "    </tr>\n",
       "    <tr>\n",
       "      <th>890</th>\n",
       "      <td>saving private ryan</td>\n",
       "      <td>188</td>\n",
       "      <td>4.146277</td>\n",
       "      <td>3.977431</td>\n",
       "    </tr>\n",
       "    <tr>\n",
       "      <th>1034</th>\n",
       "      <td>american history x</td>\n",
       "      <td>129</td>\n",
       "      <td>4.217054</td>\n",
       "      <td>3.972451</td>\n",
       "    </tr>\n",
       "    <tr>\n",
       "      <th>526</th>\n",
       "      <td>one flew over the cuckoo's nest</td>\n",
       "      <td>133</td>\n",
       "      <td>4.203008</td>\n",
       "      <td>3.967248</td>\n",
       "    </tr>\n",
       "    <tr>\n",
       "      <th>500</th>\n",
       "      <td>reservoir dogs</td>\n",
       "      <td>131</td>\n",
       "      <td>4.202290</td>\n",
       "      <td>3.963901</td>\n",
       "    </tr>\n",
       "    <tr>\n",
       "      <th>359</th>\n",
       "      <td>dr. strangelove or: how i learned to stop worr...</td>\n",
       "      <td>97</td>\n",
       "      <td>4.268041</td>\n",
       "      <td>3.951106</td>\n",
       "    </tr>\n",
       "  </tbody>\n",
       "</table>\n",
       "</div>"
      ],
      "text/plain": [
       "                                                  title  vote_count  \\\n",
       "1317                                         fight club         218   \n",
       "160                                        pulp fiction         307   \n",
       "281                                    schindler's list         220   \n",
       "186                                        forrest gump         329   \n",
       "533                                          goodfellas         126   \n",
       "890                                 saving private ryan         188   \n",
       "1034                                 american history x         129   \n",
       "526                     one flew over the cuckoo's nest         133   \n",
       "500                                      reservoir dogs         131   \n",
       "359   dr. strangelove or: how i learned to stop worr...          97   \n",
       "\n",
       "      avg_rating     score  \n",
       "1317    4.272936  4.105076  \n",
       "160     4.197068  4.080868  \n",
       "281     4.225000  4.065501  \n",
       "186     4.164134  4.058309  \n",
       "533     4.250000  3.993289  \n",
       "890     4.146277  3.977431  \n",
       "1034    4.217054  3.972451  \n",
       "526     4.203008  3.967248  \n",
       "500     4.202290  3.963901  \n",
       "359     4.268041  3.951106  "
      ]
     },
     "execution_count": 33,
     "metadata": {},
     "output_type": "execute_result"
    }
   ],
   "source": [
    "quantiled_movies = quantiled_movies.sort_values('score', ascending=False)\n",
    "\n",
    "#Print the top 15 movies\n",
    "quantiled_movies[['title', 'vote_count', 'avg_rating', 'score']].head(10)"
   ]
  },
  {
   "cell_type": "code",
   "execution_count": 34,
   "id": "9c0f42f4",
   "metadata": {},
   "outputs": [],
   "source": [
    "def get_best_movies_for_genre(genre):\n",
    "    genre_filtered = quantiled_movies.loc[quantiled_movies['genres'].str.contains(genre)]\n",
    "    return genre_filtered[['title','genres','score']].head(10)"
   ]
  },
  {
   "cell_type": "code",
   "execution_count": 35,
   "id": "12cbd774",
   "metadata": {},
   "outputs": [
    {
     "data": {
      "text/html": [
       "<div>\n",
       "<style scoped>\n",
       "    .dataframe tbody tr th:only-of-type {\n",
       "        vertical-align: middle;\n",
       "    }\n",
       "\n",
       "    .dataframe tbody tr th {\n",
       "        vertical-align: top;\n",
       "    }\n",
       "\n",
       "    .dataframe thead th {\n",
       "        text-align: right;\n",
       "    }\n",
       "</style>\n",
       "<table border=\"1\" class=\"dataframe\">\n",
       "  <thead>\n",
       "    <tr style=\"text-align: right;\">\n",
       "      <th></th>\n",
       "      <th>title</th>\n",
       "      <th>genres</th>\n",
       "      <th>score</th>\n",
       "    </tr>\n",
       "  </thead>\n",
       "  <tbody>\n",
       "    <tr>\n",
       "      <th>160</th>\n",
       "      <td>pulp fiction</td>\n",
       "      <td>Comedy|Crime|Drama|Thriller</td>\n",
       "      <td>4.080868</td>\n",
       "    </tr>\n",
       "    <tr>\n",
       "      <th>186</th>\n",
       "      <td>forrest gump</td>\n",
       "      <td>Comedy|Drama|Romance|War</td>\n",
       "      <td>4.058309</td>\n",
       "    </tr>\n",
       "    <tr>\n",
       "      <th>359</th>\n",
       "      <td>dr. strangelove or: how i learned to stop worr...</td>\n",
       "      <td>Comedy|War</td>\n",
       "      <td>3.951106</td>\n",
       "    </tr>\n",
       "    <tr>\n",
       "      <th>317</th>\n",
       "      <td>fargo</td>\n",
       "      <td>Comedy|Crime|Drama|Thriller</td>\n",
       "      <td>3.947029</td>\n",
       "    </tr>\n",
       "    <tr>\n",
       "      <th>515</th>\n",
       "      <td>monty python and the holy grail</td>\n",
       "      <td>Adventure|Comedy|Fantasy</td>\n",
       "      <td>3.939077</td>\n",
       "    </tr>\n",
       "    <tr>\n",
       "      <th>558</th>\n",
       "      <td>back to the future</td>\n",
       "      <td>Adventure|Comedy|Sci-Fi</td>\n",
       "      <td>3.875116</td>\n",
       "    </tr>\n",
       "    <tr>\n",
       "      <th>1765</th>\n",
       "      <td>snatch</td>\n",
       "      <td>Comedy|Crime|Thriller</td>\n",
       "      <td>3.861827</td>\n",
       "    </tr>\n",
       "    <tr>\n",
       "      <th>1134</th>\n",
       "      <td>office space</td>\n",
       "      <td>Comedy|Crime</td>\n",
       "      <td>3.817419</td>\n",
       "    </tr>\n",
       "    <tr>\n",
       "      <th>0</th>\n",
       "      <td>toy story</td>\n",
       "      <td>Adventure|Animation|Children|Comedy|Fantasy</td>\n",
       "      <td>3.803950</td>\n",
       "    </tr>\n",
       "    <tr>\n",
       "      <th>365</th>\n",
       "      <td>trainspotting</td>\n",
       "      <td>Comedy|Crime|Drama</td>\n",
       "      <td>3.795710</td>\n",
       "    </tr>\n",
       "  </tbody>\n",
       "</table>\n",
       "</div>"
      ],
      "text/plain": [
       "                                                  title  \\\n",
       "160                                        pulp fiction   \n",
       "186                                        forrest gump   \n",
       "359   dr. strangelove or: how i learned to stop worr...   \n",
       "317                                               fargo   \n",
       "515                     monty python and the holy grail   \n",
       "558                                  back to the future   \n",
       "1765                                             snatch   \n",
       "1134                                       office space   \n",
       "0                                             toy story   \n",
       "365                                       trainspotting   \n",
       "\n",
       "                                           genres     score  \n",
       "160                   Comedy|Crime|Drama|Thriller  4.080868  \n",
       "186                      Comedy|Drama|Romance|War  4.058309  \n",
       "359                                    Comedy|War  3.951106  \n",
       "317                   Comedy|Crime|Drama|Thriller  3.947029  \n",
       "515                      Adventure|Comedy|Fantasy  3.939077  \n",
       "558                       Adventure|Comedy|Sci-Fi  3.875116  \n",
       "1765                        Comedy|Crime|Thriller  3.861827  \n",
       "1134                                 Comedy|Crime  3.817419  \n",
       "0     Adventure|Animation|Children|Comedy|Fantasy  3.803950  \n",
       "365                            Comedy|Crime|Drama  3.795710  "
      ]
     },
     "execution_count": 35,
     "metadata": {},
     "output_type": "execute_result"
    }
   ],
   "source": [
    "get_best_movies_for_genre('Comedy')"
   ]
  },
  {
   "cell_type": "markdown",
   "id": "42943167",
   "metadata": {},
   "source": [
    "#### 3. Content based recommender system:"
   ]
  },
  {
   "cell_type": "markdown",
   "id": "77aa8814",
   "metadata": {},
   "source": [
    "##### 3.1 Content similarity:\n"
   ]
  },
  {
   "cell_type": "markdown",
   "id": "bba4d975",
   "metadata": {},
   "source": [
    "We want to find movies that are similar. We will use the plots of the movies to calculate similarity. We will do the steps below:"
   ]
  },
  {
   "cell_type": "markdown",
   "id": "f0156e64",
   "metadata": {},
   "source": [
    "1. Remove the stop words from the plots of each movie"
   ]
  },
  {
   "cell_type": "markdown",
   "id": "b9a15bcd",
   "metadata": {},
   "source": [
    "2. Create TF-IDF matrix of the plots without stop words"
   ]
  },
  {
   "cell_type": "markdown",
   "id": "42ac8bec",
   "metadata": {},
   "source": [
    "3. Using cosine-similarity to calculate similarity among movies' plots"
   ]
  },
  {
   "cell_type": "markdown",
   "id": "99ddb708",
   "metadata": {},
   "source": [
    "4. Recommend similar movies based on the plot given a movie"
   ]
  },
  {
   "cell_type": "code",
   "execution_count": 36,
   "id": "cf665760",
   "metadata": {},
   "outputs": [],
   "source": [
    "# WE first create a copy to work on:\n",
    "content_df = movies_df.copy()"
   ]
  },
  {
   "cell_type": "code",
   "execution_count": 37,
   "id": "01525a63",
   "metadata": {},
   "outputs": [],
   "source": [
    "from sklearn.feature_extraction.text import TfidfVectorizer\n",
    "\n",
    "tf_idf = TfidfVectorizer(stop_words='english')\n",
    "\n",
    "tfidf_matrix = tf_idf.fit_transform(content_df['plot'])"
   ]
  },
  {
   "cell_type": "code",
   "execution_count": 38,
   "id": "77b73fce",
   "metadata": {},
   "outputs": [
    {
     "data": {
      "text/plain": [
       "<4783x58746 sparse matrix of type '<class 'numpy.float64'>'\n",
       "\twith 1046003 stored elements in Compressed Sparse Row format>"
      ]
     },
     "execution_count": 38,
     "metadata": {},
     "output_type": "execute_result"
    }
   ],
   "source": [
    "tfidf_matrix"
   ]
  },
  {
   "cell_type": "code",
   "execution_count": 39,
   "id": "9381af9f",
   "metadata": {},
   "outputs": [],
   "source": [
    "from sklearn.metrics.pairwise import linear_kernel\n",
    "\n",
    "cosine_sim = linear_kernel(tfidf_matrix, tfidf_matrix)"
   ]
  },
  {
   "cell_type": "code",
   "execution_count": 40,
   "id": "f90cc4ef",
   "metadata": {},
   "outputs": [],
   "source": [
    "indices = pd.Series(content_df.index, index=content_df['title']).drop_duplicates()\n",
    "def get_recommendations(title, cosine_sim):\n",
    "    idx = indices[title]\n",
    "    sim_scores = list(enumerate(cosine_sim[idx]))\n",
    "    sim_scores = sorted(sim_scores, key=lambda x: x[1], reverse=True)\n",
    "    sim_scores = sim_scores[1:11]\n",
    "    movie_indices = [i[0] for i in sim_scores]\n",
    "    return content_df['title'].iloc[movie_indices]"
   ]
  },
  {
   "cell_type": "code",
   "execution_count": 41,
   "id": "79fefab9",
   "metadata": {},
   "outputs": [
    {
     "data": {
      "text/plain": [
       "4280        alan partridge: alpha papa\n",
       "2289                       harvard man\n",
       "820                     small soldiers\n",
       "2494                             equus\n",
       "4762    jumanji: welcome to the jungle\n",
       "3517                     reign over me\n",
       "4516                too late for tears\n",
       "773                          b. monkey\n",
       "2153                white water summer\n",
       "4086                           carnage\n",
       "Name: title, dtype: object"
      ]
     },
     "execution_count": 41,
     "metadata": {},
     "output_type": "execute_result"
    }
   ],
   "source": [
    "get_recommendations('jumanji', cosine_sim)"
   ]
  },
  {
   "cell_type": "markdown",
   "id": "46761316",
   "metadata": {},
   "source": [
    "#### 4. Collaborative filtering"
   ]
  },
  {
   "cell_type": "code",
   "execution_count": 42,
   "id": "46d0919d",
   "metadata": {
    "scrolled": true
   },
   "outputs": [],
   "source": [
    "cf_movies =  movies_df.copy()"
   ]
  },
  {
   "cell_type": "code",
   "execution_count": 43,
   "id": "a4ebcc8d",
   "metadata": {},
   "outputs": [],
   "source": [
    "cf_ratings = ratings_df.copy()"
   ]
  },
  {
   "cell_type": "code",
   "execution_count": 44,
   "id": "7503b5fb",
   "metadata": {},
   "outputs": [
    {
     "data": {
      "text/html": [
       "<div>\n",
       "<style scoped>\n",
       "    .dataframe tbody tr th:only-of-type {\n",
       "        vertical-align: middle;\n",
       "    }\n",
       "\n",
       "    .dataframe tbody tr th {\n",
       "        vertical-align: top;\n",
       "    }\n",
       "\n",
       "    .dataframe thead th {\n",
       "        text-align: right;\n",
       "    }\n",
       "</style>\n",
       "<table border=\"1\" class=\"dataframe\">\n",
       "  <thead>\n",
       "    <tr style=\"text-align: right;\">\n",
       "      <th></th>\n",
       "      <th>user</th>\n",
       "      <th>item</th>\n",
       "      <th>rating</th>\n",
       "      <th>timestamp</th>\n",
       "    </tr>\n",
       "  </thead>\n",
       "  <tbody>\n",
       "    <tr>\n",
       "      <th>0</th>\n",
       "      <td>1</td>\n",
       "      <td>1</td>\n",
       "      <td>4.0</td>\n",
       "      <td>964982703</td>\n",
       "    </tr>\n",
       "    <tr>\n",
       "      <th>1</th>\n",
       "      <td>1</td>\n",
       "      <td>3</td>\n",
       "      <td>4.0</td>\n",
       "      <td>964981247</td>\n",
       "    </tr>\n",
       "    <tr>\n",
       "      <th>2</th>\n",
       "      <td>1</td>\n",
       "      <td>6</td>\n",
       "      <td>4.0</td>\n",
       "      <td>964982224</td>\n",
       "    </tr>\n",
       "    <tr>\n",
       "      <th>3</th>\n",
       "      <td>1</td>\n",
       "      <td>47</td>\n",
       "      <td>5.0</td>\n",
       "      <td>964983815</td>\n",
       "    </tr>\n",
       "    <tr>\n",
       "      <th>4</th>\n",
       "      <td>1</td>\n",
       "      <td>50</td>\n",
       "      <td>5.0</td>\n",
       "      <td>964982931</td>\n",
       "    </tr>\n",
       "    <tr>\n",
       "      <th>...</th>\n",
       "      <td>...</td>\n",
       "      <td>...</td>\n",
       "      <td>...</td>\n",
       "      <td>...</td>\n",
       "    </tr>\n",
       "    <tr>\n",
       "      <th>100831</th>\n",
       "      <td>610</td>\n",
       "      <td>166534</td>\n",
       "      <td>4.0</td>\n",
       "      <td>1493848402</td>\n",
       "    </tr>\n",
       "    <tr>\n",
       "      <th>100832</th>\n",
       "      <td>610</td>\n",
       "      <td>168248</td>\n",
       "      <td>5.0</td>\n",
       "      <td>1493850091</td>\n",
       "    </tr>\n",
       "    <tr>\n",
       "      <th>100833</th>\n",
       "      <td>610</td>\n",
       "      <td>168250</td>\n",
       "      <td>5.0</td>\n",
       "      <td>1494273047</td>\n",
       "    </tr>\n",
       "    <tr>\n",
       "      <th>100834</th>\n",
       "      <td>610</td>\n",
       "      <td>168252</td>\n",
       "      <td>5.0</td>\n",
       "      <td>1493846352</td>\n",
       "    </tr>\n",
       "    <tr>\n",
       "      <th>100835</th>\n",
       "      <td>610</td>\n",
       "      <td>170875</td>\n",
       "      <td>3.0</td>\n",
       "      <td>1493846415</td>\n",
       "    </tr>\n",
       "  </tbody>\n",
       "</table>\n",
       "<p>100836 rows × 4 columns</p>\n",
       "</div>"
      ],
      "text/plain": [
       "        user    item  rating   timestamp\n",
       "0          1       1     4.0   964982703\n",
       "1          1       3     4.0   964981247\n",
       "2          1       6     4.0   964982224\n",
       "3          1      47     5.0   964983815\n",
       "4          1      50     5.0   964982931\n",
       "...      ...     ...     ...         ...\n",
       "100831   610  166534     4.0  1493848402\n",
       "100832   610  168248     5.0  1493850091\n",
       "100833   610  168250     5.0  1494273047\n",
       "100834   610  168252     5.0  1493846352\n",
       "100835   610  170875     3.0  1493846415\n",
       "\n",
       "[100836 rows x 4 columns]"
      ]
     },
     "execution_count": 44,
     "metadata": {},
     "output_type": "execute_result"
    }
   ],
   "source": [
    "cf_ratings"
   ]
  },
  {
   "cell_type": "code",
   "execution_count": 45,
   "id": "2501d55f",
   "metadata": {},
   "outputs": [],
   "source": [
    "column_values = cf_ratings[[\"user\"]].values.ravel()\n",
    "unique_users =  pd.unique(column_values)"
   ]
  },
  {
   "cell_type": "code",
   "execution_count": 46,
   "id": "49596921",
   "metadata": {},
   "outputs": [],
   "source": [
    "random_user = random.choice(unique_users)"
   ]
  },
  {
   "cell_type": "code",
   "execution_count": 47,
   "id": "8fecb3d1",
   "metadata": {},
   "outputs": [],
   "source": [
    "from surprise import Reader, Dataset, SVD"
   ]
  },
  {
   "cell_type": "code",
   "execution_count": 48,
   "id": "f445b0fe",
   "metadata": {},
   "outputs": [],
   "source": [
    "from surprise.model_selection.validation import cross_validate"
   ]
  },
  {
   "cell_type": "code",
   "execution_count": 49,
   "id": "db0f536e",
   "metadata": {},
   "outputs": [
    {
     "name": "stdout",
     "output_type": "stream",
     "text": [
      "Evaluating RMSE, MAE of algorithm SVD on 5 split(s).\n",
      "\n",
      "                  Fold 1  Fold 2  Fold 3  Fold 4  Fold 5  Mean    Std     \n",
      "RMSE (testset)    0.8755  0.8733  0.8815  0.8698  0.8725  0.8745  0.0039  \n",
      "MAE (testset)     0.6731  0.6704  0.6760  0.6721  0.6679  0.6719  0.0027  \n",
      "Fit time          9.08    8.87    8.67    8.68    8.62    8.78    0.17    \n",
      "Test time         0.31    0.14    0.15    0.19    0.14    0.19    0.06    \n"
     ]
    },
    {
     "data": {
      "text/plain": [
       "{'test_rmse': array([0.87545264, 0.87325345, 0.8814591 , 0.86984016, 0.87252703]),\n",
       " 'test_mae': array([0.67309901, 0.67041482, 0.67602052, 0.67206251, 0.66788055]),\n",
       " 'fit_time': (9.076875925064087,\n",
       "  8.865256786346436,\n",
       "  8.67281460762024,\n",
       "  8.679453611373901,\n",
       "  8.621935844421387),\n",
       " 'test_time': (0.3061521053314209,\n",
       "  0.13763213157653809,\n",
       "  0.15159344673156738,\n",
       "  0.192474365234375,\n",
       "  0.13763213157653809)}"
      ]
     },
     "execution_count": 49,
     "metadata": {},
     "output_type": "execute_result"
    }
   ],
   "source": [
    "reader = Reader()\n",
    "data = Dataset.load_from_df(cf_ratings[['user', 'item', 'rating']], reader)\n",
    "svd = SVD()\n",
    "cross_validate(svd, data, measures=['RMSE', 'MAE'], cv=5, verbose=True)"
   ]
  },
  {
   "cell_type": "code",
   "execution_count": null,
   "id": "bd6a5e35",
   "metadata": {},
   "outputs": [],
   "source": [
    "trainset = data.build_full_trainset()\n",
    "svd.trai"
   ]
  }
 ],
 "metadata": {
  "kernelspec": {
   "display_name": "Python 3 (ipykernel)",
   "language": "python",
   "name": "python3"
  },
  "language_info": {
   "codemirror_mode": {
    "name": "ipython",
    "version": 3
   },
   "file_extension": ".py",
   "mimetype": "text/x-python",
   "name": "python",
   "nbconvert_exporter": "python",
   "pygments_lexer": "ipython3",
   "version": "3.9.7"
  }
 },
 "nbformat": 4,
 "nbformat_minor": 5
}
