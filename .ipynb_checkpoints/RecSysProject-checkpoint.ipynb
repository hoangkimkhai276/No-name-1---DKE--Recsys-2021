{
 "cells": [
  {
   "cell_type": "markdown",
   "id": "4cbeb7a5",
   "metadata": {},
   "source": [
    "Requirements:  numpy, pandas, seaborn, scikit-surprise"
   ]
  },
  {
   "cell_type": "code",
   "execution_count": 1,
   "id": "18370dc9",
   "metadata": {},
   "outputs": [],
   "source": [
    "import numpy as np\n",
    "import pandas as pd\n",
    "import seaborn as sns"
   ]
  },
  {
   "cell_type": "markdown",
   "id": "d1ced7a0",
   "metadata": {},
   "source": [
    "# Database\n",
    "\n",
    "Dataframes:\n",
    "- <b> ratings </b>: userId, movieId, rating, timestamp\n",
    "- <b>movies</b>: movieId, title, genre\n",
    "- <b>links</b>: movieId, imdbId, tmdbId\n",
    "- <b>tags</b>: userId, movieId, tag, timestamp\n",
    "\n",
    "## I. Load CSVs:"
   ]
  },
  {
   "cell_type": "code",
   "execution_count": 2,
   "id": "a59238ac",
   "metadata": {},
   "outputs": [],
   "source": [
    "ratings = pd.read_csv('ml-latest-small/ratings.csv')\n",
    "movies = pd.read_csv('ml-latest-small/movies.csv')\n",
    "links = pd.read_csv('ml-latest-small/links.csv')\n",
    "tags = pd.read_csv('ml-latest-small/tags.csv')"
   ]
  },
  {
   "cell_type": "markdown",
   "id": "fcf1da37",
   "metadata": {},
   "source": [
    "## II. Analyse shape of data\n",
    "\n",
    "1. Avg + plot nb of ratings per user\n",
    "2. Avg + plot nb of ratings per movie\n",
    "3. Avg + plot nb of tags per movie\n"
   ]
  },
  {
   "cell_type": "code",
   "execution_count": 3,
   "id": "d695a521",
   "metadata": {},
   "outputs": [
    {
     "name": "stdout",
     "output_type": "stream",
     "text": [
      "Sparsity: 98.30%\n"
     ]
    }
   ],
   "source": [
    "n_users = ratings['userId'].nunique()\n",
    "n_movies = movies['movieId'].nunique()\n",
    "print('Sparsity: {:.2f}%'.format((1- ratings['userId'].count()/(n_users*n_movies))*100))"
   ]
  },
  {
   "cell_type": "markdown",
   "id": "41a2edca",
   "metadata": {},
   "source": [
    "#### 1. Ratings per user"
   ]
  },
  {
   "cell_type": "code",
   "execution_count": 4,
   "id": "1c1c115e",
   "metadata": {
    "scrolled": false
   },
   "outputs": [
    {
     "name": "stdout",
     "output_type": "stream",
     "text": [
      "Mean rating per userId:  165.30491803278687\n",
      "Median rating per userId:  70.5\n"
     ]
    }
   ],
   "source": [
    "def group_count_sort(df, group_by, to_count):\n",
    "    colName = to_count+\" per \"+group_by\n",
    "    df_1 = pd.DataFrame(df.groupby(group_by)[to_count].count())\n",
    "    df_1 = df_1.rename(columns={to_count:colName})\n",
    "    df_1 = df_1.sort_values(by=colName, ascending=False).reset_index()\n",
    "    return df_1, colName\n",
    "\n",
    "def stats(df, colName, print_stats=True):\n",
    "    mean = df[colName].mean()\n",
    "    median = df[colName].median()\n",
    "    if print_stats:\n",
    "        print('Mean '+colName+': ',mean)\n",
    "        print('Median '+colName+': ', median)\n",
    "    return mean, median\n",
    "\n",
    "    \n",
    "ratings_per_user, colName = group_count_sort(ratings, 'userId', 'rating')\n",
    "stats(ratings_per_user, colName);"
   ]
  },
  {
   "cell_type": "code",
   "execution_count": 5,
   "id": "fde79a84",
   "metadata": {},
   "outputs": [
    {
     "data": {
      "text/plain": [
       "<seaborn.axisgrid.FacetGrid at 0x29b88adb580>"
      ]
     },
     "execution_count": 5,
     "metadata": {},
     "output_type": "execute_result"
    },
    {
     "data": {
      "image/png": "[encoded data removed]",
      "text/plain": [
       "<Figure size 360x360 with 1 Axes>"
      ]
     },
     "metadata": {
      "needs_background": "light"
     },
     "output_type": "display_data"
    }
   ],
   "source": [
    "sns.displot(data=ratings_per_user, x=colName, binwidth=10)"
   ]
  },
  {
   "cell_type": "markdown",
   "id": "98c15358",
   "metadata": {},
   "source": [
    "#### 2. Ratings per movie"
   ]
  },
  {
   "cell_type": "code",
   "execution_count": 6,
   "id": "bdac6ba9",
   "metadata": {},
   "outputs": [
    {
     "name": "stdout",
     "output_type": "stream",
     "text": [
      "Mean rating per movieId:  10.369806663924312\n",
      "Median rating per movieId:  3.0\n"
     ]
    }
   ],
   "source": [
    "ratings_per_movie, colName = group_count_sort(ratings, 'movieId', 'rating')\n",
    "stats(ratings_per_movie, colName);"
   ]
  },
  {
   "cell_type": "code",
   "execution_count": 7,
   "id": "0f6ba32c",
   "metadata": {},
   "outputs": [
    {
     "data": {
      "text/plain": [
       "<seaborn.axisgrid.FacetGrid at 0x29b88a106d0>"
      ]
     },
     "execution_count": 7,
     "metadata": {},
     "output_type": "execute_result"
    },
    {
     "data": {
      "image/png": "[encoded data removed]",
      "text/plain": [
       "<Figure size 360x360 with 1 Axes>"
      ]
     },
     "metadata": {
      "needs_background": "light"
     },
     "output_type": "display_data"
    }
   ],
   "source": [
    "sns.displot(data=ratings_per_movie, x=colName, binwidth=2)"
   ]
  },
  {
   "cell_type": "markdown",
   "id": "0ea96823",
   "metadata": {},
   "source": [
    "#### 3. Tags per movie"
   ]
  },
  {
   "cell_type": "code",
   "execution_count": 8,
   "id": "c990815d",
   "metadata": {},
   "outputs": [
    {
     "name": "stdout",
     "output_type": "stream",
     "text": [
      "Mean tag per movieId:  2.3428753180661577\n",
      "Median tag per movieId:  1.0\n"
     ]
    }
   ],
   "source": [
    "tags_per_movie, colName = group_count_sort(tags, 'movieId', 'tag')\n",
    "stats(tags_per_movie, colName);"
   ]
  },
  {
   "cell_type": "code",
   "execution_count": 9,
   "id": "3ce8e1b3",
   "metadata": {},
   "outputs": [
    {
     "data": {
      "text/plain": [
       "<seaborn.axisgrid.FacetGrid at 0x29b8934cb50>"
      ]
     },
     "execution_count": 9,
     "metadata": {},
     "output_type": "execute_result"
    },
    {
     "data": {
      "image/png": "[encoded data removed]",
      "text/plain": [
       "<Figure size 360x360 with 1 Axes>"
      ]
     },
     "metadata": {
      "needs_background": "light"
     },
     "output_type": "display_data"
    }
   ],
   "source": [
    "sns.displot(data=tags_per_movie, x=colName, binwidth=1)"
   ]
  },
  {
   "cell_type": "markdown",
   "id": "6b80bb26",
   "metadata": {},
   "source": [
    "Drop timestamp because it wil not be used and <b><i>complete data with useful meta data (director, date, cast, synopsis/keywords in synopsis)</i></b>"
   ]
  },
  {
   "cell_type": "code",
   "execution_count": 10,
   "id": "763e5fdd",
   "metadata": {},
   "outputs": [],
   "source": [
    "ratings = ratings.drop('timestamp', axis=1)"
   ]
  },
  {
   "cell_type": "markdown",
   "id": "39e3298a",
   "metadata": {},
   "source": [
    "\n",
    "# II. Recommender Systems\n",
    "\n",
    ">The data is very sparse, at 98% (0% if all users rated all movies). To deal with this, we could filter out users and movies with ratings below a threshold.\n",
    "    \n",
    ">The ones that don't make the cut will be recommended using a generalised recommendation based on overall well liked movie. These users will be considered as cold starts.\n",
    "\n",
    ">Cold start movies will be recommended using a content based recommendation system (e.g. using director, genre, synopsis, cast). These could be mixed in with the recommendation of \"well known\" user.\n",
    "   \n",
    ">\"Well known\" users: Collaborative filtering   \n",
    "Cold start items: Content based (director, genre, synopsis?, cast)  \n",
    "Cold start users: Generalised recommendation  \n",
    "\n",
    "Questions:\n",
    "- Cold start threshold? for item? for user?"
   ]
  },
  {
   "cell_type": "code",
   "execution_count": 11,
   "id": "411c88d4",
   "metadata": {},
   "outputs": [
    {
     "name": "stdout",
     "output_type": "stream",
     "text": [
      "The original data frame shape:\t(100836, 3)\n",
      "The new data frame shape:\t(67686, 3)\n",
      "New sparsity: 84.13%\n"
     ]
    }
   ],
   "source": [
    "user_threshold = 50\n",
    "movie_threshold = 15\n",
    "filtered_users = ratings['userId'].value_counts()>=user_threshold\n",
    "filtered_users = filtered_users[filtered_users].index.tolist()\n",
    "\n",
    "filtered_movies = ratings['movieId'].value_counts()>=movie_threshold\n",
    "filtered_movies = filtered_movies[filtered_movies].index.tolist()\n",
    "\n",
    "filtered = ratings[(ratings['userId'].isin(filtered_users)) & (ratings['movieId'].isin(filtered_movies))]\n",
    "\n",
    "print('The original data frame shape:\\t{}'.format(ratings.shape))\n",
    "print('The new data frame shape:\\t{}'.format(filtered.shape))\n",
    "\n",
    "n_users = filtered['userId'].nunique()\n",
    "n_movies = filtered['movieId'].nunique()\n",
    "print('New sparsity: {:.2f}%'.format((1- ratings['userId'].count()/(n_users*n_movies))*100))"
   ]
  },
  {
   "cell_type": "markdown",
   "id": "f5246144",
   "metadata": {},
   "source": [
    "### Testing\n",
    "\n",
    "What algorithm to use?   \n",
    "- Test all algorithms in sci-kit surprise libarary using 10-fold cross validation\n",
    "- Get the Root-mean-square deviation (RMSE) for each\n",
    "And pick the one that seems the best (error values and speed)"
   ]
  },
  {
   "cell_type": "code",
   "execution_count": 12,
   "id": "a905dea5",
   "metadata": {},
   "outputs": [],
   "source": [
    "from surprise import SVD, SVDpp, SlopeOne, NMF, NormalPredictor, KNNBaseline, KNNBasic, KNNWithMeans, KNNWithZScore, BaselineOnly, CoClustering\n",
    "from surprise.model_selection import cross_validate, train_test_split\n",
    "from surprise import Reader, Dataset, accuracy\n",
    "reader = Reader(rating_scale=(0, 5))\n",
    "data = Dataset.load_from_df(filtered[['userId', 'movieId', 'rating']], reader)"
   ]
  },
  {
   "cell_type": "code",
   "execution_count": 13,
   "id": "3e231c6b",
   "metadata": {},
   "outputs": [
    {
     "name": "stdout",
     "output_type": "stream",
     "text": [
      "<surprise.prediction_algorithms.matrix_factorization.SVD object at 0x0000029B88B57880>\n",
      "<surprise.prediction_algorithms.slope_one.SlopeOne object at 0x0000029B88B579D0>\n",
      "<surprise.prediction_algorithms.matrix_factorization.NMF object at 0x0000029B88B57970>\n",
      "<surprise.prediction_algorithms.random_pred.NormalPredictor object at 0x0000029B88B57610>\n",
      "<surprise.prediction_algorithms.knns.KNNBaseline object at 0x0000029B88B57A60>\n",
      "<surprise.prediction_algorithms.knns.KNNBasic object at 0x0000029B88B57AF0>\n",
      "<surprise.prediction_algorithms.knns.KNNWithMeans object at 0x0000029B88B57B50>\n",
      "<surprise.prediction_algorithms.knns.KNNWithZScore object at 0x0000029B88B57BB0>\n",
      "<surprise.prediction_algorithms.baseline_only.BaselineOnly object at 0x0000029B88B57BE0>\n",
      "<surprise.prediction_algorithms.co_clustering.CoClustering object at 0x0000029B88B57C70>\n"
     ]
    },
    {
     "data": {
      "text/html": [
       "<div>\n",
       "<style scoped>\n",
       "    .dataframe tbody tr th:only-of-type {\n",
       "        vertical-align: middle;\n",
       "    }\n",
       "\n",
       "    .dataframe tbody tr th {\n",
       "        vertical-align: top;\n",
       "    }\n",
       "\n",
       "    .dataframe thead th {\n",
       "        text-align: right;\n",
       "    }\n",
       "</style>\n",
       "<table border=\"1\" class=\"dataframe\">\n",
       "  <thead>\n",
       "    <tr style=\"text-align: right;\">\n",
       "      <th></th>\n",
       "      <th>test_rmse</th>\n",
       "      <th>fit_time</th>\n",
       "      <th>test_time</th>\n",
       "    </tr>\n",
       "    <tr>\n",
       "      <th>Algorithm</th>\n",
       "      <th></th>\n",
       "      <th></th>\n",
       "      <th></th>\n",
       "    </tr>\n",
       "  </thead>\n",
       "  <tbody>\n",
       "    <tr>\n",
       "      <th>KNNBaseline</th>\n",
       "      <td>0.829519</td>\n",
       "      <td>0.151134</td>\n",
       "      <td>0.420495</td>\n",
       "    </tr>\n",
       "    <tr>\n",
       "      <th>SVD</th>\n",
       "      <td>0.835558</td>\n",
       "      <td>2.433399</td>\n",
       "      <td>0.031507</td>\n",
       "    </tr>\n",
       "    <tr>\n",
       "      <th>KNNWithZScore</th>\n",
       "      <td>0.839050</td>\n",
       "      <td>0.142632</td>\n",
       "      <td>0.381086</td>\n",
       "    </tr>\n",
       "    <tr>\n",
       "      <th>BaselineOnly</th>\n",
       "      <td>0.839707</td>\n",
       "      <td>0.057513</td>\n",
       "      <td>0.016104</td>\n",
       "    </tr>\n",
       "    <tr>\n",
       "      <th>KNNWithMeans</th>\n",
       "      <td>0.840765</td>\n",
       "      <td>0.116926</td>\n",
       "      <td>0.350279</td>\n",
       "    </tr>\n",
       "    <tr>\n",
       "      <th>SlopeOne</th>\n",
       "      <td>0.842121</td>\n",
       "      <td>0.864193</td>\n",
       "      <td>0.789901</td>\n",
       "    </tr>\n",
       "    <tr>\n",
       "      <th>NMF</th>\n",
       "      <td>0.860042</td>\n",
       "      <td>2.330875</td>\n",
       "      <td>0.029406</td>\n",
       "    </tr>\n",
       "    <tr>\n",
       "      <th>CoClustering</th>\n",
       "      <td>0.880934</td>\n",
       "      <td>0.902903</td>\n",
       "      <td>0.026406</td>\n",
       "    </tr>\n",
       "    <tr>\n",
       "      <th>KNNBasic</th>\n",
       "      <td>0.890312</td>\n",
       "      <td>0.101423</td>\n",
       "      <td>0.322272</td>\n",
       "    </tr>\n",
       "    <tr>\n",
       "      <th>NormalPredictor</th>\n",
       "      <td>1.370772</td>\n",
       "      <td>0.058435</td>\n",
       "      <td>0.030107</td>\n",
       "    </tr>\n",
       "  </tbody>\n",
       "</table>\n",
       "</div>"
      ],
      "text/plain": [
       "                 test_rmse  fit_time  test_time\n",
       "Algorithm                                      \n",
       "KNNBaseline       0.829519  0.151134   0.420495\n",
       "SVD               0.835558  2.433399   0.031507\n",
       "KNNWithZScore     0.839050  0.142632   0.381086\n",
       "BaselineOnly      0.839707  0.057513   0.016104\n",
       "KNNWithMeans      0.840765  0.116926   0.350279\n",
       "SlopeOne          0.842121  0.864193   0.789901\n",
       "NMF               0.860042  2.330875   0.029406\n",
       "CoClustering      0.880934  0.902903   0.026406\n",
       "KNNBasic          0.890312  0.101423   0.322272\n",
       "NormalPredictor   1.370772  0.058435   0.030107"
      ]
     },
     "execution_count": 13,
     "metadata": {},
     "output_type": "execute_result"
    }
   ],
   "source": [
    "benchmark = []\n",
    "# Iterate over all algorithms (SVDpp not present. Way too slow)\n",
    "for algorithm in [SVD(), SlopeOne(), NMF(), NormalPredictor(), KNNBaseline(verbose=False), KNNBasic(verbose=False), KNNWithMeans(verbose=False), KNNWithZScore(verbose=False), BaselineOnly(verbose=False), CoClustering()]:\n",
    "    print(algorithm)\n",
    "    # Perform cross validation\n",
    "    results = cross_validate(algorithm, data, measures=['RMSE'], cv=10, verbose=False)\n",
    "    # Get results & append algorithm name\n",
    "    tmp = pd.DataFrame.from_dict(results).mean(axis=0)\n",
    "    tmp = tmp.append(pd.Series([str(algorithm).split(' ')[0].split('.')[-1]], index=['Algorithm']))\n",
    "    benchmark.append(tmp)\n",
    "\n",
    "pd.DataFrame(benchmark).set_index('Algorithm').sort_values('test_rmse') "
   ]
  },
  {
   "cell_type": "markdown",
   "id": "7ea40750",
   "metadata": {},
   "source": [
    "KNNBaseline has the lowest RMSE therefore we will be considering it as the best one to use"
   ]
  },
  {
   "cell_type": "code",
   "execution_count": 14,
   "id": "fd8b2d31",
   "metadata": {},
   "outputs": [
    {
     "data": {
      "text/html": [
       "<div>\n",
       "<style scoped>\n",
       "    .dataframe tbody tr th:only-of-type {\n",
       "        vertical-align: middle;\n",
       "    }\n",
       "\n",
       "    .dataframe tbody tr th {\n",
       "        vertical-align: top;\n",
       "    }\n",
       "\n",
       "    .dataframe thead th {\n",
       "        text-align: right;\n",
       "    }\n",
       "</style>\n",
       "<table border=\"1\" class=\"dataframe\">\n",
       "  <thead>\n",
       "    <tr style=\"text-align: right;\">\n",
       "      <th></th>\n",
       "      <th>0</th>\n",
       "      <th>1</th>\n",
       "      <th>2</th>\n",
       "      <th>3</th>\n",
       "      <th>4</th>\n",
       "      <th>5</th>\n",
       "      <th>6</th>\n",
       "      <th>7</th>\n",
       "      <th>8</th>\n",
       "      <th>9</th>\n",
       "      <th>mean</th>\n",
       "      <th>var</th>\n",
       "    </tr>\n",
       "  </thead>\n",
       "  <tbody>\n",
       "    <tr>\n",
       "      <th>test_rmse</th>\n",
       "      <td>0.814868</td>\n",
       "      <td>0.843669</td>\n",
       "      <td>0.829388</td>\n",
       "      <td>0.825957</td>\n",
       "      <td>0.827969</td>\n",
       "      <td>0.816321</td>\n",
       "      <td>0.841844</td>\n",
       "      <td>0.824234</td>\n",
       "      <td>0.835173</td>\n",
       "      <td>0.830146</td>\n",
       "      <td>0.828957</td>\n",
       "      <td>0.000081</td>\n",
       "    </tr>\n",
       "    <tr>\n",
       "      <th>test_mae</th>\n",
       "      <td>0.619781</td>\n",
       "      <td>0.645369</td>\n",
       "      <td>0.632689</td>\n",
       "      <td>0.631650</td>\n",
       "      <td>0.637484</td>\n",
       "      <td>0.624389</td>\n",
       "      <td>0.644833</td>\n",
       "      <td>0.631772</td>\n",
       "      <td>0.634724</td>\n",
       "      <td>0.629301</td>\n",
       "      <td>0.633199</td>\n",
       "      <td>0.000058</td>\n",
       "    </tr>\n",
       "    <tr>\n",
       "      <th>fit_time</th>\n",
       "      <td>0.201045</td>\n",
       "      <td>0.201045</td>\n",
       "      <td>0.181043</td>\n",
       "      <td>0.178040</td>\n",
       "      <td>0.227051</td>\n",
       "      <td>0.208044</td>\n",
       "      <td>0.204045</td>\n",
       "      <td>0.166036</td>\n",
       "      <td>0.184041</td>\n",
       "      <td>0.177040</td>\n",
       "      <td>0.192743</td>\n",
       "      <td>0.000307</td>\n",
       "    </tr>\n",
       "    <tr>\n",
       "      <th>test_time</th>\n",
       "      <td>0.697156</td>\n",
       "      <td>0.668150</td>\n",
       "      <td>0.683151</td>\n",
       "      <td>0.609137</td>\n",
       "      <td>0.577129</td>\n",
       "      <td>0.647146</td>\n",
       "      <td>0.596134</td>\n",
       "      <td>0.651147</td>\n",
       "      <td>0.621140</td>\n",
       "      <td>0.565127</td>\n",
       "      <td>0.631542</td>\n",
       "      <td>0.001817</td>\n",
       "    </tr>\n",
       "  </tbody>\n",
       "</table>\n",
       "</div>"
      ],
      "text/plain": [
       "                  0         1         2         3         4         5  \\\n",
       "test_rmse  0.814868  0.843669  0.829388  0.825957  0.827969  0.816321   \n",
       "test_mae   0.619781  0.645369  0.632689  0.631650  0.637484  0.624389   \n",
       "fit_time   0.201045  0.201045  0.181043  0.178040  0.227051  0.208044   \n",
       "test_time  0.697156  0.668150  0.683151  0.609137  0.577129  0.647146   \n",
       "\n",
       "                  6         7         8         9      mean       var  \n",
       "test_rmse  0.841844  0.824234  0.835173  0.830146  0.828957  0.000081  \n",
       "test_mae   0.644833  0.631772  0.634724  0.629301  0.633199  0.000058  \n",
       "fit_time   0.204045  0.166036  0.184041  0.177040  0.192743  0.000307  \n",
       "test_time  0.596134  0.651147  0.621140  0.565127  0.631542  0.001817  "
      ]
     },
     "execution_count": 14,
     "metadata": {},
     "output_type": "execute_result"
    }
   ],
   "source": [
    "algo = KNNBaseline(verbose=False)\n",
    "results = cross_validate(algo, data, measures=['RMSE', 'MAE'], cv=10, verbose=False,n_jobs =-1)\n",
    "results_df = pd.DataFrame(results).transpose()\n",
    "results_df['mean'] = results_df.mean(numeric_only=True, axis=1)\n",
    "results_df['var'] = results_df.var(numeric_only=True, axis=1)\n",
    "results_df"
   ]
  },
  {
   "cell_type": "code",
   "execution_count": 18,
   "id": "81dba999",
   "metadata": {},
   "outputs": [],
   "source": [
    "algo = KNNBaseline(verbose=False)\n",
    "algo = algo.fit(data.build_full_trainset())\n",
    "\n",
    "def predict(userId):\n",
    "    movies_df = ratings['movieId'].unique()\n",
    "    pred = pd.DataFrame()\n",
    "    \n",
    "    for iid in movies_df:\n",
    "        pred = pred.append({'movieId': iid, 'pred_rating':algo.predict(userId, iid)[3]}, ignore_index=True)\n",
    "    return pred\n",
    "    \n",
    "prediction = predict(1)"
   ]
  },
  {
   "cell_type": "code",
   "execution_count": 21,
   "id": "9bae8352",
   "metadata": {},
   "outputs": [
    {
     "data": {
      "text/html": [
       "<div>\n",
       "<style scoped>\n",
       "    .dataframe tbody tr th:only-of-type {\n",
       "        vertical-align: middle;\n",
       "    }\n",
       "\n",
       "    .dataframe tbody tr th {\n",
       "        vertical-align: top;\n",
       "    }\n",
       "\n",
       "    .dataframe thead th {\n",
       "        text-align: right;\n",
       "    }\n",
       "</style>\n",
       "<table border=\"1\" class=\"dataframe\">\n",
       "  <thead>\n",
       "    <tr style=\"text-align: right;\">\n",
       "      <th></th>\n",
       "      <th>movieId</th>\n",
       "      <th>pred_rating</th>\n",
       "      <th>title</th>\n",
       "      <th>genres</th>\n",
       "    </tr>\n",
       "  </thead>\n",
       "  <tbody>\n",
       "    <tr>\n",
       "      <th>0</th>\n",
       "      <td>1556.0</td>\n",
       "      <td>2.373099</td>\n",
       "      <td>Speed 2: Cruise Control (1997)</td>\n",
       "      <td>Action|Romance|Thriller</td>\n",
       "    </tr>\n",
       "    <tr>\n",
       "      <th>1</th>\n",
       "      <td>3593.0</td>\n",
       "      <td>2.490306</td>\n",
       "      <td>Battlefield Earth (2000)</td>\n",
       "      <td>Action|Sci-Fi</td>\n",
       "    </tr>\n",
       "    <tr>\n",
       "      <th>2</th>\n",
       "      <td>2643.0</td>\n",
       "      <td>2.626490</td>\n",
       "      <td>Superman IV: The Quest for Peace (1987)</td>\n",
       "      <td>Action|Adventure|Sci-Fi</td>\n",
       "    </tr>\n",
       "    <tr>\n",
       "      <th>3</th>\n",
       "      <td>2338.0</td>\n",
       "      <td>2.710109</td>\n",
       "      <td>I Still Know What You Did Last Summer (1998)</td>\n",
       "      <td>Horror|Mystery|Thriller</td>\n",
       "    </tr>\n",
       "    <tr>\n",
       "      <th>4</th>\n",
       "      <td>1499.0</td>\n",
       "      <td>2.748943</td>\n",
       "      <td>Anaconda (1997)</td>\n",
       "      <td>Action|Adventure|Thriller</td>\n",
       "    </tr>\n",
       "    <tr>\n",
       "      <th>...</th>\n",
       "      <td>...</td>\n",
       "      <td>...</td>\n",
       "      <td>...</td>\n",
       "      <td>...</td>\n",
       "    </tr>\n",
       "    <tr>\n",
       "      <th>9719</th>\n",
       "      <td>318.0</td>\n",
       "      <td>5.000000</td>\n",
       "      <td>Shawshank Redemption, The (1994)</td>\n",
       "      <td>Crime|Drama</td>\n",
       "    </tr>\n",
       "    <tr>\n",
       "      <th>9720</th>\n",
       "      <td>2959.0</td>\n",
       "      <td>5.000000</td>\n",
       "      <td>Fight Club (1999)</td>\n",
       "      <td>Action|Crime|Drama|Thriller</td>\n",
       "    </tr>\n",
       "    <tr>\n",
       "      <th>9721</th>\n",
       "      <td>2571.0</td>\n",
       "      <td>5.000000</td>\n",
       "      <td>Matrix, The (1999)</td>\n",
       "      <td>Action|Sci-Fi|Thriller</td>\n",
       "    </tr>\n",
       "    <tr>\n",
       "      <th>9722</th>\n",
       "      <td>1148.0</td>\n",
       "      <td>5.000000</td>\n",
       "      <td>Wallace &amp; Gromit: The Wrong Trousers (1993)</td>\n",
       "      <td>Animation|Children|Comedy|Crime</td>\n",
       "    </tr>\n",
       "    <tr>\n",
       "      <th>9723</th>\n",
       "      <td>3836.0</td>\n",
       "      <td>5.000000</td>\n",
       "      <td>Kelly's Heroes (1970)</td>\n",
       "      <td>Action|Comedy|War</td>\n",
       "    </tr>\n",
       "  </tbody>\n",
       "</table>\n",
       "<p>9724 rows × 4 columns</p>\n",
       "</div>"
      ],
      "text/plain": [
       "      movieId  pred_rating                                         title  \\\n",
       "0      1556.0     2.373099                Speed 2: Cruise Control (1997)   \n",
       "1      3593.0     2.490306                      Battlefield Earth (2000)   \n",
       "2      2643.0     2.626490       Superman IV: The Quest for Peace (1987)   \n",
       "3      2338.0     2.710109  I Still Know What You Did Last Summer (1998)   \n",
       "4      1499.0     2.748943                               Anaconda (1997)   \n",
       "...       ...          ...                                           ...   \n",
       "9719    318.0     5.000000              Shawshank Redemption, The (1994)   \n",
       "9720   2959.0     5.000000                             Fight Club (1999)   \n",
       "9721   2571.0     5.000000                            Matrix, The (1999)   \n",
       "9722   1148.0     5.000000   Wallace & Gromit: The Wrong Trousers (1993)   \n",
       "9723   3836.0     5.000000                         Kelly's Heroes (1970)   \n",
       "\n",
       "                               genres  \n",
       "0             Action|Romance|Thriller  \n",
       "1                       Action|Sci-Fi  \n",
       "2             Action|Adventure|Sci-Fi  \n",
       "3             Horror|Mystery|Thriller  \n",
       "4           Action|Adventure|Thriller  \n",
       "...                               ...  \n",
       "9719                      Crime|Drama  \n",
       "9720      Action|Crime|Drama|Thriller  \n",
       "9721           Action|Sci-Fi|Thriller  \n",
       "9722  Animation|Children|Comedy|Crime  \n",
       "9723                Action|Comedy|War  \n",
       "\n",
       "[9724 rows x 4 columns]"
      ]
     },
     "execution_count": 21,
     "metadata": {},
     "output_type": "execute_result"
    }
   ],
   "source": [
    "prediction = prediction.sort_values('pred_rating')\n",
    "prediction.merge(movies, on= 'movieId')"
   ]
  },
  {
   "cell_type": "markdown",
   "id": "4e3983d7",
   "metadata": {},
   "source": [
    "# Cold start recommendations (Only do if everything else done)"
   ]
  },
  {
   "cell_type": "code",
   "execution_count": 16,
   "id": "68f21e5a",
   "metadata": {},
   "outputs": [
    {
     "data": {
      "text/html": [
       "<div>\n",
       "<style scoped>\n",
       "    .dataframe tbody tr th:only-of-type {\n",
       "        vertical-align: middle;\n",
       "    }\n",
       "\n",
       "    .dataframe tbody tr th {\n",
       "        vertical-align: top;\n",
       "    }\n",
       "\n",
       "    .dataframe thead th {\n",
       "        text-align: right;\n",
       "    }\n",
       "</style>\n",
       "<table border=\"1\" class=\"dataframe\">\n",
       "  <thead>\n",
       "    <tr style=\"text-align: right;\">\n",
       "      <th></th>\n",
       "      <th>Adventure</th>\n",
       "      <th>Animation</th>\n",
       "      <th>Children</th>\n",
       "      <th>Comedy</th>\n",
       "      <th>Fantasy</th>\n",
       "      <th>Romance</th>\n",
       "      <th>Drama</th>\n",
       "      <th>Action</th>\n",
       "      <th>Crime</th>\n",
       "      <th>Thriller</th>\n",
       "      <th>Horror</th>\n",
       "      <th>Mystery</th>\n",
       "      <th>Sci-Fi</th>\n",
       "      <th>War</th>\n",
       "      <th>Musical</th>\n",
       "      <th>Documentary</th>\n",
       "      <th>IMAX</th>\n",
       "      <th>Western</th>\n",
       "      <th>Film-Noir</th>\n",
       "      <th>(no genres listed)</th>\n",
       "    </tr>\n",
       "    <tr>\n",
       "      <th>movieId</th>\n",
       "      <th></th>\n",
       "      <th></th>\n",
       "      <th></th>\n",
       "      <th></th>\n",
       "      <th></th>\n",
       "      <th></th>\n",
       "      <th></th>\n",
       "      <th></th>\n",
       "      <th></th>\n",
       "      <th></th>\n",
       "      <th></th>\n",
       "      <th></th>\n",
       "      <th></th>\n",
       "      <th></th>\n",
       "      <th></th>\n",
       "      <th></th>\n",
       "      <th></th>\n",
       "      <th></th>\n",
       "      <th></th>\n",
       "      <th></th>\n",
       "    </tr>\n",
       "  </thead>\n",
       "  <tbody>\n",
       "    <tr>\n",
       "      <th>1</th>\n",
       "      <td>1</td>\n",
       "      <td>1</td>\n",
       "      <td>1</td>\n",
       "      <td>1</td>\n",
       "      <td>1</td>\n",
       "      <td>0</td>\n",
       "      <td>0</td>\n",
       "      <td>0</td>\n",
       "      <td>0</td>\n",
       "      <td>0</td>\n",
       "      <td>0</td>\n",
       "      <td>0</td>\n",
       "      <td>0</td>\n",
       "      <td>0</td>\n",
       "      <td>0</td>\n",
       "      <td>0</td>\n",
       "      <td>0</td>\n",
       "      <td>0</td>\n",
       "      <td>0</td>\n",
       "      <td>0</td>\n",
       "    </tr>\n",
       "    <tr>\n",
       "      <th>2</th>\n",
       "      <td>1</td>\n",
       "      <td>0</td>\n",
       "      <td>1</td>\n",
       "      <td>0</td>\n",
       "      <td>1</td>\n",
       "      <td>0</td>\n",
       "      <td>0</td>\n",
       "      <td>0</td>\n",
       "      <td>0</td>\n",
       "      <td>0</td>\n",
       "      <td>0</td>\n",
       "      <td>0</td>\n",
       "      <td>0</td>\n",
       "      <td>0</td>\n",
       "      <td>0</td>\n",
       "      <td>0</td>\n",
       "      <td>0</td>\n",
       "      <td>0</td>\n",
       "      <td>0</td>\n",
       "      <td>0</td>\n",
       "    </tr>\n",
       "    <tr>\n",
       "      <th>3</th>\n",
       "      <td>0</td>\n",
       "      <td>0</td>\n",
       "      <td>0</td>\n",
       "      <td>1</td>\n",
       "      <td>0</td>\n",
       "      <td>1</td>\n",
       "      <td>0</td>\n",
       "      <td>0</td>\n",
       "      <td>0</td>\n",
       "      <td>0</td>\n",
       "      <td>0</td>\n",
       "      <td>0</td>\n",
       "      <td>0</td>\n",
       "      <td>0</td>\n",
       "      <td>0</td>\n",
       "      <td>0</td>\n",
       "      <td>0</td>\n",
       "      <td>0</td>\n",
       "      <td>0</td>\n",
       "      <td>0</td>\n",
       "    </tr>\n",
       "    <tr>\n",
       "      <th>4</th>\n",
       "      <td>0</td>\n",
       "      <td>0</td>\n",
       "      <td>0</td>\n",
       "      <td>1</td>\n",
       "      <td>0</td>\n",
       "      <td>1</td>\n",
       "      <td>1</td>\n",
       "      <td>0</td>\n",
       "      <td>0</td>\n",
       "      <td>0</td>\n",
       "      <td>0</td>\n",
       "      <td>0</td>\n",
       "      <td>0</td>\n",
       "      <td>0</td>\n",
       "      <td>0</td>\n",
       "      <td>0</td>\n",
       "      <td>0</td>\n",
       "      <td>0</td>\n",
       "      <td>0</td>\n",
       "      <td>0</td>\n",
       "    </tr>\n",
       "    <tr>\n",
       "      <th>5</th>\n",
       "      <td>0</td>\n",
       "      <td>0</td>\n",
       "      <td>0</td>\n",
       "      <td>1</td>\n",
       "      <td>0</td>\n",
       "      <td>0</td>\n",
       "      <td>0</td>\n",
       "      <td>0</td>\n",
       "      <td>0</td>\n",
       "      <td>0</td>\n",
       "      <td>0</td>\n",
       "      <td>0</td>\n",
       "      <td>0</td>\n",
       "      <td>0</td>\n",
       "      <td>0</td>\n",
       "      <td>0</td>\n",
       "      <td>0</td>\n",
       "      <td>0</td>\n",
       "      <td>0</td>\n",
       "      <td>0</td>\n",
       "    </tr>\n",
       "  </tbody>\n",
       "</table>\n",
       "</div>"
      ],
      "text/plain": [
       "         Adventure  Animation  Children  Comedy  Fantasy  Romance  Drama  \\\n",
       "movieId                                                                    \n",
       "1                1          1         1       1        1        0      0   \n",
       "2                1          0         1       0        1        0      0   \n",
       "3                0          0         0       1        0        1      0   \n",
       "4                0          0         0       1        0        1      1   \n",
       "5                0          0         0       1        0        0      0   \n",
       "\n",
       "         Action  Crime  Thriller  Horror  Mystery  Sci-Fi  War  Musical  \\\n",
       "movieId                                                                   \n",
       "1             0      0         0       0        0       0    0        0   \n",
       "2             0      0         0       0        0       0    0        0   \n",
       "3             0      0         0       0        0       0    0        0   \n",
       "4             0      0         0       0        0       0    0        0   \n",
       "5             0      0         0       0        0       0    0        0   \n",
       "\n",
       "         Documentary  IMAX  Western  Film-Noir  (no genres listed)  \n",
       "movieId                                                             \n",
       "1                  0     0        0          0                   0  \n",
       "2                  0     0        0          0                   0  \n",
       "3                  0     0        0          0                   0  \n",
       "4                  0     0        0          0                   0  \n",
       "5                  0     0        0          0                   0  "
      ]
     },
     "execution_count": 16,
     "metadata": {},
     "output_type": "execute_result"
    }
   ],
   "source": [
    "split_df = movies.copy().set_index('movieId')\n",
    "def loadGenres(row):\n",
    "    genres = row['genres'].split('|')\n",
    "    for col in genres:\n",
    "        if col not in split_df:\n",
    "            split_df[col] = 0\n",
    "        split_df.loc[int(row['movieId']), col] = 1\n",
    "        \n",
    "\n",
    "movies.apply(loadGenres, axis=1)\n",
    "split_df = split_df.drop('genres', axis=1)\n",
    "split_df = split_df.drop('title', axis=1)\n",
    "split_df.head()"
   ]
  }
 ],
 "metadata": {
  "kernelspec": {
   "display_name": "Python 3 (ipykernel)",
   "language": "python",
   "name": "python3"
  },
  "language_info": {
   "codemirror_mode": {
    "name": "ipython",
    "version": 3
   },
   "file_extension": ".py",
   "mimetype": "text/x-python",
   "name": "python",
   "nbconvert_exporter": "python",
   "pygments_lexer": "ipython3",
   "version": "3.9.7"
  }
 },
 "nbformat": 4,
 "nbformat_minor": 5
}
