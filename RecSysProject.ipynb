{
 "cells": [
  {
   "cell_type": "code",
   "execution_count": 23,
   "id": "aaa94b0c",
   "metadata": {},
   "outputs": [
    {
     "name": "stdout",
     "output_type": "stream",
     "text": [
      "70167 ratings, 2257 movies, 305 users\n",
      "[1, 4, 6, 7, 10, 15, 16, 17, 18, 19, 20, 21, 22, 23, 24, 27, 28, 29, 32, 33, 34, 38, 39, 40, 41, 42, 43, 45, 47, 50, 51, 52, 57, 58, 59, 62, 63, 64, 66, 68, 73, 74, 76, 80, 82, 83, 84, 89, 91, 93, 95, 96, 98, 100, 103, 104, 105, 108, 109, 111, 113, 115, 116, 117, 119, 122, 125, 129, 132, 135, 136, 137, 139, 140, 141, 143, 144, 153, 156, 159, 160, 166, 167, 168, 169, 171, 177, 178, 181, 182, 184, 186, 187, 191, 195, 198, 199, 200, 201, 202, 204, 210, 211, 212, 213, 215, 216, 217, 219, 220, 221, 222, 223, 225, 226, 227, 230, 232, 233, 234, 239, 240, 241, 244, 246, 247, 249, 254, 256, 260, 263, 265, 266, 268, 274, 275, 279, 280, 282, 284, 286, 287, 288, 290, 292, 294, 297, 298, 301, 304, 305, 306, 307, 308, 309, 312, 313, 314, 317, 318, 322, 323, 325, 326, 328, 330, 331, 332, 334, 337, 339, 346, 351, 352, 353, 354, 356, 357, 359, 361, 362, 365, 367, 368, 369, 370, 372, 373, 376, 377, 380, 381, 382, 385, 387, 390, 391, 393, 401, 405, 408, 409, 410, 411, 412, 414, 415, 418, 419, 420, 422, 424, 425, 426, 427, 428, 432, 434, 436, 437, 438, 445, 446, 447, 448, 452, 453, 460, 462, 464, 465, 466, 469, 470, 474, 475, 477, 479, 480, 482, 483, 484, 488, 489, 490, 492, 495, 500, 503, 504, 509, 510, 514, 517, 520, 522, 523, 524, 525, 527, 528, 534, 541, 542, 543, 551, 552, 553, 554, 555, 559, 560, 561, 562, 563, 564, 566, 567, 570, 571, 572, 573, 577, 579, 580, 584, 586, 587, 590, 592, 593, 594, 596, 597, 599, 600, 601, 602, 603, 604, 605, 606, 607, 608, 610]\n"
     ]
    }
   ],
   "source": [
    "import pandas as pd\n",
    "import numpy as np\n",
    "\n",
    "ratings = pd.read_csv('Data/norm_ratings.csv')\n",
    "movies_meta_bin = pd.read_csv('Data/movies_meta_bin.csv')\n",
    "\n",
    "ratings = ratings[ratings['movieId'].isin(movies_meta_bin['movieId'].unique())]\n",
    "movies_meta_bin = movies_meta_bin[movies_meta_bin['movieId'].isin(ratings['movieId'].unique())]\n",
    "print('{} ratings, {} movies, {} users'.format(ratings.shape[0], movies_meta_bin.shape[0], ratings['userId'].nunique()))\n",
    "print(ratings['userId'].unique().tolist())"
   ]
  },
  {
   "cell_type": "markdown",
   "id": "3487690b",
   "metadata": {},
   "source": [
    "# Create similarity matrices"
   ]
  },
  {
   "cell_type": "code",
   "execution_count": 24,
   "id": "bd0a3bc4",
   "metadata": {},
   "outputs": [
    {
     "name": "stdout",
     "output_type": "stream",
     "text": [
      "(2257, 2257) (305, 305) (305, 305) (305, 305)\n"
     ]
    }
   ],
   "source": [
    "from sklearn.metrics.pairwise import cosine_similarity\n",
    "\n",
    "def meta_similarity(movies_df):\n",
    "    # Get meta df for each movie\n",
    "    base_columns = set(['title', 'imdbId', 'date', 'plot', 'userId', 'rating', 'mean'])\n",
    "    content_columns = set(movies_df.columns).difference(base_columns)\n",
    "    meta = movies_df[content_columns].set_index('movieId').sort_index()\n",
    "    \n",
    "    # Get cosine similarity pivot table\n",
    "    meta_sim = cosine_similarity(meta)\n",
    "    meta_sim = pd.DataFrame(columns=meta.index, data=meta_sim, index=meta.index)\n",
    "    return meta_sim\n",
    "\n",
    "\n",
    "def rating_similarity(ratings_df):\n",
    "    pvt = pd.pivot_table(ratings, index='userId', columns='movieId', values='rating', fill_value=0)\n",
    "    rating_sim = pvt.T.corr()\n",
    "    rating_sim = pd.DataFrame(columns=ratings['userId'].unique(), data=rating_sim, index=ratings['userId'].unique())\n",
    "    \n",
    "    rating_sim.index.name = 'userId'\n",
    "    rating_sim.columns.name ='userId'\n",
    "\n",
    "    return rating_sim\n",
    "\n",
    "def meta_user_similarity(ratings_df, movies_df, rating_weighted):\n",
    "    u = pd.merge(ratings_df, movies_df, on='movieId').drop(columns=['mean', 'title', 'imdbId', 'plot'])\n",
    "    \n",
    "    base_columns = ['rating', 'date', 'userId', 'movieId', 'plot']\n",
    "    content_columns = set(u.columns).difference(base_columns)\n",
    "    \n",
    "    if rating_weighted:\n",
    "        r = np.array(u['rating'])[:, np.newaxis]\n",
    "        u.loc[:,content_columns] = np.array(u[content_columns]) * r\n",
    "    \n",
    "    \n",
    "    u = u.groupby('userId').sum().drop(columns=['movieId', 'rating'])\n",
    "    #count = ratings_df.groupby('userId').count()['movieId']\n",
    "    #u = u.div(count.values, axis=0)\n",
    "    user_sim = u.reset_index().T.corr()\n",
    "    user_sim = pd.DataFrame(index=u.index, columns=u.index, data=user_sim)\n",
    "    \n",
    "    return user_sim\n",
    "\n",
    "\n",
    "# To K-Fold, \n",
    "movie_sim = meta_similarity(movies_meta_bin)\n",
    "\n",
    "# To K-Fold, get rid of ratings that are in train set\n",
    "user_rating_sim = rating_similarity(ratings)\n",
    "user_weighted_meta_sim = meta_user_similarity(ratings, movies_meta_bin, rating_weighted=True)\n",
    "user_meta_sim = meta_user_similarity(ratings, movies_meta_bin, rating_weighted=False)\n",
    "print(movie_sim.shape, user_rating_sim.shape, user_weighted_meta_sim.shape, user_meta_sim.shape)\n"
   ]
  },
  {
   "cell_type": "markdown",
   "id": "af6bf240",
   "metadata": {},
   "source": [
    "# Prediction code/algorithm\n",
    "KNN"
   ]
  },
  {
   "cell_type": "code",
   "execution_count": 25,
   "id": "8bec2282",
   "metadata": {},
   "outputs": [],
   "source": [
    "def predict_with_user_sim(userId, user_sim_matrix, ratings_df, neighbors= 10):\n",
    "    if type(userId) == list:\n",
    "        pred = []\n",
    "        for u in userId:\n",
    "            pred.append(predict_with_user_sim(u, user_sim_matrix, ratings_df))\n",
    "        return pd.concat(pred)\n",
    "    u_s_m = user_sim_matrix[userId].drop(userId).sort_values(ascending=False).head(neighbors)\n",
    "    r = pd.merge(u_s_m, ratings_df, on='userId')\n",
    "    r['rat_x_sim'] = r['rating'] * r[userId]\n",
    "    r['mean_x_sim'] = r['mean'] * r[userId]\n",
    "    r_summed = r.groupby('movieId').sum().drop(columns=['userId'])\n",
    "    r_summed['count'] = r.groupby('movieId').count()['userId']\n",
    "    \n",
    "    r_summed['pred_sim'] = (r_summed['rat_x_sim']+r_summed['mean_x_sim']) / r_summed[userId]\n",
    "    \n",
    "    #r_summed['pred_sim_weighted'] = (r_summed['count']/(r_summed['count']+(neighbors/3)))*r_summed['pred_sim'] + ((neighbors/3)/((neighbors/3)+r_summed['count']))*r_summed['pred_sim'].mean()\n",
    "    r_summed['pred'] = (r_summed['rating']+r_summed['mean']) / r_summed['count']\n",
    "    \n",
    "    #r_summed['pred_weighted'] = (r_summed['count']/(r_summed['count']+(neighbors/3)))*r_summed['pred'] + ((neighbors/3)/((neighbors/3)+r_summed['count']))*r_summed['pred'].mean()\n",
    "    \n",
    "    r_summed['userId'] = userId\n",
    "    r_summed = r_summed.rename(columns={userId:'similarity'})\n",
    "    return r_summed.reset_index()[['movieId','userId','pred','pred_sim', 'count', 'similarity']]\n",
    "\n",
    "pred = predict_with_user_sim(ratings['userId'].unique().tolist(), user_rating_sim, ratings)"
   ]
  },
  {
   "cell_type": "markdown",
   "id": "36b51cb7",
   "metadata": {},
   "source": [
    "# Evaluation"
   ]
  },
  {
   "cell_type": "code",
   "execution_count": 26,
   "id": "abee8643",
   "metadata": {},
   "outputs": [
    {
     "data": {
      "text/plain": [
       "<AxesSubplot:xlabel='count', ylabel='value'>"
      ]
     },
     "execution_count": 26,
     "metadata": {},
     "output_type": "execute_result"
    },
    {
     "data": {
      "image/png": "[encoded data removed]",
      "text/plain": [
       "<Figure size 432x288 with 1 Axes>"
      ]
     },
     "metadata": {
      "needs_background": "light"
     },
     "output_type": "display_data"
    }
   ],
   "source": [
    "import seaborn as sns\n",
    "def get_rmse(prediction, ratings_df):\n",
    "    merged = pd.merge(ratings, pred, on=['movieId', 'userId'])\n",
    "    merged['rating'] = merged['rating'] + merged['mean']\n",
    "    rmse_ = dict()\n",
    "    for c in ['pred', 'pred_sim']:\n",
    "        merged['se_'+c] = (merged['rating'] - merged[c])**2\n",
    "        rmse_[c+'_rmse'] = np.sqrt(merged['se_'+c].mean())\n",
    "    \n",
    "    rated_num = ratings_df.groupby('userId').count()['movieId']\n",
    "    user_rmse = np.sqrt(merged.groupby(by='userId').mean()[['se_pred', 'se_pred_sim']])\n",
    "    user_rmse['count'] = rated_num\n",
    "    return merged, rmse_, user_rmse\n",
    "\n",
    "_, rmse, user_rmse = get_rmse(pred, ratings)\n",
    "user_rmse = user_rmse.sort_values(by='count')\n",
    "user_rmse['se_pred_ma'] = user_rmse['se_pred'].rolling(20).mean()\n",
    "user_rmse['se_pred_sim_ma'] = user_rmse['se_pred_sim'].rolling(20).mean()\n",
    "\n",
    "sns.lineplot(x='count', y='value', hue='variable', data=pd.melt(user_rmse, ['count']))\n"
   ]
  },
  {
   "cell_type": "code",
   "execution_count": 77,
   "id": "991b20c8",
   "metadata": {},
   "outputs": [],
   "source": [
    "from sklearn.utils import shuffle\n",
    "folds = 0\n",
    "\n",
    "c = ratings.groupby('userId').count()['movieId'].reset_index().rename(columns={'movieId':'total_ratings'})\n",
    "r = pd.merge(ratings, c, on='userId')\n",
    "r = shuffle(r)\n",
    "\n",
    "results = []\n",
    "u_rmse = []\n",
    "for k in range(1,folds+1):\n",
    "    print('Fold {}'.format(k))\n",
    "    test = r.groupby('userId').head(k*round(r['total_ratings']/folds))\n",
    "    test = test.groupby('userId').tail(round(test['total_ratings']/folds))\n",
    "    train = r.drop(index=test.index)\n",
    "    sim_matrices = [\n",
    "        ['rating_sim',rating_similarity(train)],\n",
    "        ['meta_sim_weighted',meta_user_similarity(train, movies_meta_bin, rating_weighted=True)], \n",
    "        ['meta_sim',meta_user_similarity(train, movies_meta_bin, rating_weighted=False)]\n",
    "    ]\n",
    "    results_inner = dict()\n",
    "    for sim_matrix in sim_matrices:\n",
    "        pred = predict_with_user_sim(test['userId'].unique().tolist() ,sim_matrix[1], train)\n",
    "        _, rmse, user_rmse= get_rmse(pred, test)\n",
    "        u_rmse.append(user_rmse)\n",
    "        results_inner[sim_matrix[0]] = rmse\n",
    "    results.append(results_inner)"
   ]
  },
  {
   "cell_type": "code",
   "execution_count": 28,
   "id": "e8291174",
   "metadata": {},
   "outputs": [
    {
     "data": {
      "text/html": [
       "<div>\n",
       "<style scoped>\n",
       "    .dataframe tbody tr th:only-of-type {\n",
       "        vertical-align: middle;\n",
       "    }\n",
       "\n",
       "    .dataframe tbody tr th {\n",
       "        vertical-align: top;\n",
       "    }\n",
       "\n",
       "    .dataframe thead th {\n",
       "        text-align: right;\n",
       "    }\n",
       "</style>\n",
       "<table border=\"1\" class=\"dataframe\">\n",
       "  <thead>\n",
       "    <tr style=\"text-align: right;\">\n",
       "      <th></th>\n",
       "      <th>rating_sim</th>\n",
       "      <th>meta_sim_weighted</th>\n",
       "      <th>meta_sim</th>\n",
       "    </tr>\n",
       "    <tr>\n",
       "      <th>index</th>\n",
       "      <th></th>\n",
       "      <th></th>\n",
       "      <th></th>\n",
       "    </tr>\n",
       "  </thead>\n",
       "  <tbody>\n",
       "    <tr>\n",
       "      <th>pred_rmse</th>\n",
       "      <td>0.935241</td>\n",
       "      <td>1.172946</td>\n",
       "      <td>1.173965</td>\n",
       "    </tr>\n",
       "    <tr>\n",
       "      <th>pred_sim_rmse</th>\n",
       "      <td>0.934702</td>\n",
       "      <td>1.172119</td>\n",
       "      <td>1.174329</td>\n",
       "    </tr>\n",
       "  </tbody>\n",
       "</table>\n",
       "</div>"
      ],
      "text/plain": [
       "               rating_sim  meta_sim_weighted  meta_sim\n",
       "index                                                 \n",
       "pred_rmse        0.935241           1.172946  1.173965\n",
       "pred_sim_rmse    0.934702           1.172119  1.174329"
      ]
     },
     "execution_count": 28,
     "metadata": {},
     "output_type": "execute_result"
    },
    {
     "data": {
      "image/png": "[encoded data removed]",
      "text/plain": [
       "<Figure size 432x288 with 1 Axes>"
      ]
     },
     "metadata": {
      "needs_background": "light"
     },
     "output_type": "display_data"
    }
   ],
   "source": [
    "df1 = pd.concat(u_rmse).groupby('userId').mean().sort_values(by='count')\n",
    "#df1 = df1.rolling(20).mean().dropna()\n",
    "sns.lineplot(x='count', y='value', hue='variable', data=pd.melt(df1, ['count']))\n",
    "\n",
    "df = []\n",
    "for r in results:\n",
    "    df.append(pd.DataFrame(r))\n",
    "df = pd.concat(df)\n",
    "df.reset_index().groupby(by='index').mean()"
   ]
  },
  {
   "cell_type": "code",
   "execution_count": 29,
   "id": "7c84646b",
   "metadata": {},
   "outputs": [],
   "source": [
    "from sklearn.metrics.pairwise import linear_kernel\n",
    "from sklearn.feature_extraction.text import TfidfVectorizer\n",
    "\n",
    "tf_idf = TfidfVectorizer(stop_words='english')\n",
    "tfidf_matrix = tf_idf.fit_transform(movies_meta_bin['plot'])\n",
    "cosine_sim = linear_kernel(tfidf_matrix, tfidf_matrix)\n",
    "plot_sim_mat = pd.DataFrame(cosine_sim, index=movies_meta_bin['movieId'], columns=movies_meta_bin['movieId'])\n",
    "plot_sim_mat.index.name = 'movieId'\n",
    "plot_sim_mat.columns.name = 'movieId'"
   ]
  },
  {
   "cell_type": "code",
   "execution_count": 30,
   "id": "5d64a930",
   "metadata": {},
   "outputs": [],
   "source": [
    "def predict_movie_rating_for_user(movieId, userId, sim, ratings):\n",
    "    rated = ratings[ratings['userId']==userId]\n",
    "\n",
    "    sims = sim.loc[movieId].drop(movieId).sort_values(ascending=False).reset_index()\n",
    "    sims = sims[sims['movieId'].isin(rated['movieId'])].head(10)\n",
    "    sims = pd.merge(sims, rated, on='movieId')\n",
    "    sims['rating'] = sims['rating']+sims['mean']\n",
    "    sims['rat_x_sim'] = sims['rating'] * sims[movieId]\n",
    "    sims = sims.sum()\n",
    "    return sims['rat_x_sim'] / sims[movieId]\n",
    "    \n",
    "def wwe(userId, sim, ratings):\n",
    "    if type(userId) == list:\n",
    "        preds = []\n",
    "        for user in userId:\n",
    "            preds.append(wwe(user, sim, ratings))\n",
    "        return pd.concat(preds)\n",
    "    \n",
    "    predictions = pd.DataFrame(data=sim.index, columns=['movieId'])\n",
    "    predictions['userId'] = userId\n",
    "    predictions['pred'] = predictions['movieId'].apply(predict_movie_rating_for_user, userId=userId, sim=sim, ratings=ratings)\n",
    "    return predictions\n",
    "\n",
    "#p = wwe(list(range(0, 10)), plot_sim_mat, ratings)"
   ]
  },
  {
   "cell_type": "code",
   "execution_count": 106,
   "id": "8b064abf",
   "metadata": {},
   "outputs": [],
   "source": [
    "from sklearn.metrics.pairwise import linear_kernel\n",
    "from sklearn.feature_extraction.text import TfidfVectorizer\n",
    "\n",
    "tf_idf = TfidfVectorizer(stop_words='english')\n",
    "tfidf_matrix = tf_idf.fit_transform(movies_meta_bin['plot'])\n",
    "cosine_sim = linear_kernel(tfidf_matrix, tfidf_matrix)\n",
    "plot_sim_mat = pd.DataFrame(cosine_sim, index=movies_meta_bin['movieId'], columns=movies_meta_bin['movieId'])\n",
    "plot_sim_mat.index.name = 'movieId'\n",
    "plot_sim_mat.columns.name = 'movieId'\n",
    "\n",
    "user_rating_sim = rating_similarity(ratings)\n",
    "\n",
    "def get_recommendation(userId, ratings_= ratings, movies_ = movies_meta_bin):\n",
    "    if type(userId) == list:\n",
    "        preds = []\n",
    "        for user in userId:\n",
    "            preds.append(get_recommendation(user, ratings, movies_meta_bin))\n",
    "        return pd.concat(preds)\n",
    "    seen_by_user = ratings_[ratings_['userId']==userId]['movieId']\n",
    "    pred = predict_with_user_sim(userId, user_rating_sim, ratings_)\n",
    "    pred = pred[pred['count']>=7]\n",
    "    pred = pred[~pred['movieId'].isin(seen_by_user)]\n",
    "    pred['content_pred'] = pred['movieId'].apply(predict_movie_rating_for_user, userId=userId, sim=plot_sim_mat, ratings=ratings)\n",
    "    pred['avg_pred'] = (pred['pred_sim'] + pred['content_pred'])/2\n",
    "    pred = pred.sort_values(by='avg_pred', ascending=False)\n",
    "    return pred\n",
    "\n",
    "#w = get_recommendation(ratings['userId'].unique().tolist())\n",
    "#w1 = pd.merge(w, ratings, on=['userId', 'movieId'])\n",
    "#w1['rating'] = w1['rating']+w1['mean']\n",
    "#w1['err2'] = (w1['avg_pred'] - w1['rating'])**2\n",
    "#w1['rmse'] = np.sqrt(w1['err2'].mean())\n",
    "#w1"
   ]
  },
  {
   "cell_type": "code",
   "execution_count": 204,
   "id": "fa12eafd",
   "metadata": {},
   "outputs": [
    {
     "name": "stdout",
     "output_type": "stream",
     "text": [
      "userId\n",
      "7      1.000000\n",
      "434    0.147628\n",
      "590    0.145362\n",
      "370    0.136251\n",
      "Name: 7, dtype: float64\n",
      "We recommend watching 'pianist, the ' because no one should dislike it.\n",
      "\n",
      "We recommend watching 'fantasia ' because no one should dislike it.\n",
      "\n",
      "We recommend watching 'annie hall ' because no one should dislike it.\n",
      "\n",
      "We recommend watching 'sleepless in seattle ' because no one should dislike it.\n",
      "\n",
      "We recommend watching 'moulin rouge ' because no one should dislike it.\n",
      "\n",
      "We recommend watching 'william shakespeare's romeo + juliet ' because no one should dislike it.\n",
      "\n",
      "We recommend watching 'highlander ' because no one should dislike it.\n",
      "\n",
      "We recommend watching 'ed wood ' because no one should dislike it.\n",
      "\n",
      "We recommend watching 'awakenings ' because no one should dislike it.\n",
      "\n",
      "We recommend watching 'serenity ' because no one should dislike it.\n",
      "\n",
      "We recommend watching 'four weddings and a funeral ' because no one should dislike it.\n",
      "\n",
      "We recommend watching 'what's eating gilbert grape ' because no one should dislike it.\n",
      "\n",
      "We recommend watching 'inside man ' because no one should dislike it.\n",
      "\n",
      "We recommend watching 'bug's life, a ' because no one should dislike it.\n",
      "\n",
      "We recommend watching 'face/off ' because no one should dislike it.\n",
      "\n",
      "We recommend watching 'lethal weapon 2 ' because no one should dislike it.\n",
      "\n",
      "We recommend watching 'mulholland drive ' because no one should dislike it.\n",
      "\n",
      "We recommend watching 'beverly hills cop ' because no one should dislike it.\n",
      "\n",
      "We recommend watching 'die hard 2 ' because no one should dislike it.\n",
      "\n",
      "We recommend watching 'demolition man ' because no one should dislike it.\n",
      "\n",
      "We recommend watching 'net, the ' because no one should dislike it.\n",
      "\n"
     ]
    }
   ],
   "source": [
    "from sklearn.metrics.pairwise import linear_kernel\n",
    "from sklearn.feature_extraction.text import TfidfVectorizer\n",
    "\n",
    "tf_idf = TfidfVectorizer(stop_words='english')\n",
    "tfidf_matrix = tf_idf.fit_transform(movies_meta_bin['plot'])\n",
    "cosine_sim = linear_kernel(tfidf_matrix, tfidf_matrix)\n",
    "plot_sim_mat = pd.DataFrame(cosine_sim, index=movies_meta_bin['movieId'], columns=movies_meta_bin['movieId'])\n",
    "plot_sim_mat.index.name = 'movieId'\n",
    "plot_sim_mat.columns.name = 'movieId'\n",
    "\n",
    "user_rating_sim = rating_similarity(ratings)\n",
    "\n",
    "def group_prediction(group, ratings_= ratings, movies_ = movies_meta_bin):\n",
    "\n",
    "    seen_by_at_least_one = ratings_[ratings_['userId'].isin(group)]['movieId'].unique()\n",
    "    group_recommendations = get_recommendation(group, ratings_, movies_)\n",
    "    group_recommendations = group_recommendations[~group_recommendations['movieId'].isin(seen_by_at_least_one)]\n",
    "    \n",
    "    group_profile = ratings_[ratings_['userId'].isin(group)]\n",
    "    group_profile = pd.merge(group_profile, movies_, on='movieId')\n",
    "    meta_columns = list(set(group_profile.columns.tolist()) - set(['userId', 'movieId', 'rating', 'mean', 'title', 'imdbId', 'date', 'plot']))\n",
    "    group_profile[meta_columns] = group_profile[meta_columns].mul(group_profile['rating'],axis=0)\n",
    "    group_profile = group_profile.groupby('userId').sum()[meta_columns]\n",
    "    group_profile['num_ratings'] = ratings_.groupby('userId').count()['movieId'] \n",
    "    \n",
    "    group_profile[meta_columns] = group_profile[meta_columns].div(group_profile['num_ratings'], axis=0)\n",
    "    s = group_profile>0.01\n",
    "    group_likes = []\n",
    "    for col in meta_columns:\n",
    "        if(s[col].values.sum()==len(group)):\n",
    "            group_likes.append(col)\n",
    "    \n",
    "    # Least Misery\n",
    "    if len(group_likes) ==0:\n",
    "        least_misery = group_recommendations.sort_values(by='avg_pred').groupby('movieId').head(1)\n",
    "        least_misery = pd.merge(least_misery, movies_, on='movieId')\n",
    "        least_misery['explanation'] = ''\n",
    "        for idx, row in least_misery.iterrows():\n",
    "            least_misery.at[idx, 'explanation'] = 'We recommend watching \\'{}\\' because no one should dislike it.'.format(row['title'])\n",
    "        \n",
    "        return least_misery[['title', 'movieId', 'avg_pred','explanation']].sort_values(by='avg_pred', ascending=False)\n",
    "\n",
    "    # Add\n",
    "    options = []\n",
    "    for col in group_likes:\n",
    "        options.append(movies_[movies_[col]==1])\n",
    "    options = pd.concat(options)\n",
    "    options = options[~options['movieId'].isin(seen_by_at_least_one)]\n",
    "    times_matched = options.groupby('movieId').count()['imdbId']\n",
    "    times_matched.name = 'count'\n",
    "    options = options.drop_duplicates(subset='movieId', keep=\"last\")\n",
    "    options = pd.merge(options, times_matched, on='movieId')\n",
    "    options = options[options['count']==options['count'].max()]\n",
    "\n",
    "    for u in group:\n",
    "        options[u] = options['movieId'].apply(predict_movie_rating_for_user, userId= u, sim=plot_sim_mat, ratings = ratings_)\n",
    "        \n",
    "    options['explanation'] = ''\n",
    "    for idx, row in options.iterrows():\n",
    "        s = []\n",
    "        for l in group_likes:\n",
    "            if row[l]==1:\n",
    "                s.append(l)\n",
    "        s = sorted(s)\n",
    "        prev = 'ppp'\n",
    "        exp = 'We recommend watching \\'{}\\' (imdbId {}) because all group members like'.format(row['title'], row['imdbId'])\n",
    "        for i in range(len(s)):\n",
    "            temp = s[i].split('_')\n",
    "            recent_change = False\n",
    "            if temp[0]!=prev:\n",
    "                recent_change = True\n",
    "                if i!=0:\n",
    "                    exp+= ' and '\n",
    "                if temp[0]=='g':\n",
    "                    exp+= ' genre(s) '\n",
    "                if temp[0]=='a':\n",
    "                    exp+=' actor(s) '\n",
    "                if temp[0]=='d':\n",
    "                    exp+=' director(s) '\n",
    "                prev = temp[0]\n",
    "            if not recent_change and (i==len(s)-1 or not s[i+1].startswith(prev)):\n",
    "                exp+= ' and '\n",
    "            elif i!=0 and s[i-1].startswith(prev):\n",
    "                exp+= ', '\n",
    "            exp+= temp[1]\n",
    "        options.at[idx,'explanation']= exp+' and this movie is expected to be enjoyed by all.'\n",
    "\n",
    "    options['mean_rating'] = options[group].mean(axis=1)\n",
    "    return options[['title', 'movieId', 'mean_rating','explanation']].sort_values(by='mean_rating', ascending=False)\n",
    "    \n",
    "\n",
    "    # 1, 2, 5\n",
    "sim_group = user_rating_sim.iloc[3].sort_values(ascending=False).head(4)\n",
    "print(sim_group)\n",
    "sim_group = sim_group.index.tolist()\n",
    "\n",
    "random_group = ratings['userId'].sample(n=5).tolist()\n",
    "\n",
    "recommendations = group_prediction(sim_group)\n",
    "\n",
    "for idx, row in recommendations.iterrows():\n",
    "    print(row['explanation'])\n",
    "    print()"
   ]
  },
  {
   "cell_type": "code",
   "execution_count": null,
   "id": "37e50dd4",
   "metadata": {},
   "outputs": [],
   "source": []
  },
  {
   "cell_type": "code",
   "execution_count": 66,
   "id": "e04f4944",
   "metadata": {},
   "outputs": [
    {
     "name": "stdout",
     "output_type": "stream",
     "text": [
      "-0.23063612169077388\n",
      "1.0\n",
      "0.03114373913345649\n"
     ]
    }
   ],
   "source": [
    "print(user_rating_sim.min().min())\n",
    "print(user_rating_sim.max().max())\n",
    "print(user_rating_sim.mean().mean())"
   ]
  },
  {
   "cell_type": "code",
   "execution_count": null,
   "id": "8d92e01f",
   "metadata": {},
   "outputs": [],
   "source": []
  }
 ],
 "metadata": {
  "kernelspec": {
   "display_name": "Python 3 (ipykernel)",
   "language": "python",
   "name": "python3"
  },
  "language_info": {
   "codemirror_mode": {
    "name": "ipython",
    "version": 3
   },
   "file_extension": ".py",
   "mimetype": "text/x-python",
   "name": "python",
   "nbconvert_exporter": "python",
   "pygments_lexer": "ipython3",
   "version": "3.8.12"
  }
 },
 "nbformat": 4,
 "nbformat_minor": 5
}
